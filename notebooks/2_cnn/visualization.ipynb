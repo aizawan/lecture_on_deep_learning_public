{
 "cells": [
  {
   "cell_type": "markdown",
   "metadata": {},
   "source": [
    "# 可視化\n",
    "\n",
    "CNNにおいても可視化は重要である．このノートブックでは，学習と評価が終わったCNN再度読み込み，特徴ベクトルの可視化，フィルタの可視化を行い，学習されたモデルを分析する．"
   ]
  },
  {
   "cell_type": "markdown",
   "metadata": {},
   "source": [
    "## モデルの読み込みとデータセットの準備\n",
    "\n",
    "まずは評価データセットに対して特徴ベクトルを計算するために，保存したモデルを再度読み込み，評価データセットを作成する．手順はMLPのときと同様である．"
   ]
  },
  {
   "cell_type": "code",
   "execution_count": null,
   "metadata": {},
   "outputs": [],
   "source": [
    "import torch\n",
    "import torch.nn as nn\n",
    "\n",
    "class CNN(nn.Module):\n",
    "    def __init__(self, in_channels, num_classes):\n",
    "        super(CNN, self).__init__()\n",
    "        self.conv1 = nn.Conv2d(in_channels, 16, kernel_size=3, stride=1, padding=1)\n",
    "        self.bn1 = nn.BatchNorm2d(16)\n",
    "        self.pool1 = nn.MaxPool2d(kernel_size=2, stride=2)\n",
    "        self.conv2 = nn.Conv2d(16, 32, kernel_size=3, stride=1, padding=1)\n",
    "        self.bn2 = nn.BatchNorm2d(32)\n",
    "        self.pool2 = nn.MaxPool2d(kernel_size=2, stride=2)\n",
    "        self.gap = nn.AdaptiveAvgPool2d(1)\n",
    "        self.flatten = nn.Flatten()\n",
    "        self.fc = nn.Linear(32, num_classes)\n",
    "\n",
    "    def forward(self, x):\n",
    "        x = self.conv1(x)\n",
    "        x = self.bn1(x)\n",
    "        x = nn.functional.relu(x)\n",
    "        x = self.pool1(x)\n",
    "        x = self.conv2(x)\n",
    "        x = self.bn2(x)\n",
    "        x = nn.functional.relu(x)\n",
    "        x = self.pool2(x)\n",
    "        x = self.gap(x)\n",
    "        x = self.flatten(x)\n",
    "        x = self.fc(x)\n",
    "        return x\n",
    "    \n",
    "in_channels = 1\n",
    "num_classes = 10\n",
    "model = CNN(in_channels=in_channels, num_classes=num_classes)\n",
    "\n",
    "save_path = 'output/model.pth'\n",
    "model.load_state_dict(torch.load(save_path))\n",
    "\n",
    "device = torch.device(\"cuda\" if torch.cuda.is_available() else \"cpu\")\n",
    "model.to(device)"
   ]
  },
  {
   "cell_type": "code",
   "execution_count": 2,
   "metadata": {},
   "outputs": [],
   "source": [
    "from torch.utils.data import DataLoader\n",
    "from torchvision import transforms, datasets\n",
    "\n",
    "transform = transforms.Compose([\n",
    "    transforms.ToTensor(),\n",
    "])\n",
    "\n",
    "test_dataset = datasets.MNIST(\n",
    "    root='./data', transform=transform, train=False, download=True)\n",
    "test_loader = DataLoader(test_dataset, batch_size=100)"
   ]
  },
  {
   "cell_type": "markdown",
   "metadata": {},
   "source": [
    "## 特徴ベクトルの可視化\n",
    "\n",
    "MLPと同様に特徴ベクトルを可視化する．モデルの定義からもわかるように，モデルの出力はロジットである．今回は全ての評価データセットに対してロジットを計算し，保存したいので評価と予測で行ったときと同じように，forループを作成する．\n",
    "\n",
    "ロジットとそのラベルの保存にはリストを利用する．手間なのでここでロジットをCPUに移動し，numpy形式で保存しておく．"
   ]
  },
  {
   "cell_type": "code",
   "execution_count": 3,
   "metadata": {},
   "outputs": [],
   "source": [
    "logits, labels = [], []\n",
    "\n",
    "model.eval()\n",
    "for batch in test_loader:\n",
    "    x, y = batch\n",
    "    x, y = x.to(device), y.to(device)\n",
    "    \n",
    "    with torch.no_grad():\n",
    "        output = model(x)\n",
    "        logits.append(output.cpu().numpy())\n",
    "        labels.append(y.cpu().numpy())"
   ]
  },
  {
   "cell_type": "markdown",
   "metadata": {},
   "source": [
    "ロジットのリストをnumpy形式に変換する．"
   ]
  },
  {
   "cell_type": "code",
   "execution_count": null,
   "metadata": {},
   "outputs": [],
   "source": [
    "import numpy as np\n",
    "logits_ = np.array(logits)\n",
    "print(logits_.shape)"
   ]
  },
  {
   "cell_type": "markdown",
   "metadata": {},
   "source": [
    "形状を見てもわかるように，（ループ回数，ミニバッチサイズ，出力次元）というテンソルになっている．これを次のように（ループ回数 * ミニバッチサイズ，出力次元）というように（サンプル数，出力次元）という形状に変換する．"
   ]
  },
  {
   "cell_type": "code",
   "execution_count": null,
   "metadata": {},
   "outputs": [],
   "source": [
    "logits_ = logits_.reshape(-1, logits_.shape[2])\n",
    "logits_.shape"
   ]
  },
  {
   "cell_type": "markdown",
   "metadata": {},
   "source": [
    "また正解ラベルについても（ループ回数，ミニバッチサイズ）となっているので（ループ回数*ミニバッチサイズ，）という形状のベクトルへ変換する．"
   ]
  },
  {
   "cell_type": "code",
   "execution_count": null,
   "metadata": {},
   "outputs": [],
   "source": [
    "labels_ = np.array(labels).reshape(-1,)\n",
    "print(labels_.shape)"
   ]
  },
  {
   "cell_type": "markdown",
   "metadata": {},
   "source": [
    "ここで特徴ベクトルの可視化をしたいが，10クラス分類のためロジットの出力次元が10であり，MLPのような2次元での可視化ができない．このような場合，[PCA](https://scikit-learn.org/dev/modules/generated/sklearn.decomposition.PCA.html) や [t-SNE](https://scikit-learn.org/1.5/modules/generated/sklearn.manifold.TSNE.html) などの次元削減手法を用いて，人間が解釈可能な2次元もしくは3次元空間に変換することが一般的である．これらのアルゴリズムの説明と実装は行わないが，利用するだけなら `scikit-learn` を用いると非常に簡単に利用できる．"
   ]
  },
  {
   "cell_type": "markdown",
   "metadata": {},
   "source": [
    "次のセルはPCAによる2次元平面への可視化である．"
   ]
  },
  {
   "cell_type": "code",
   "execution_count": null,
   "metadata": {},
   "outputs": [],
   "source": [
    "import matplotlib.pyplot as plt\n",
    "from sklearn.decomposition import PCA\n",
    "\n",
    "X = logits_\n",
    "y = labels_\n",
    "\n",
    "pca = PCA(n_components=2)\n",
    "X_ = pca.fit_transform(X)\n",
    "    \n",
    "plt.figure(figsize=(8, 6))\n",
    "u, counts = np.unique(y, return_counts=True)\n",
    "for y_ in u:\n",
    "    plt.scatter(\n",
    "        X_[y == y_, 0], X_[y == y_, 1],\n",
    "        s=10, label=f'Class {y_}', alpha=0.5)\n",
    "plt.title(\"PCA Visualization\")\n",
    "plt.xlabel(\"PC1\")\n",
    "plt.ylabel(\"PC2\")\n",
    "plt.legend()"
   ]
  },
  {
   "cell_type": "markdown",
   "metadata": {},
   "source": [
    "次のセルはt-SNEによる2次元平面への可視化である．サンプル数と次元数に応じては数分かかる．"
   ]
  },
  {
   "cell_type": "code",
   "execution_count": null,
   "metadata": {},
   "outputs": [],
   "source": [
    "import matplotlib.pyplot as plt\n",
    "from sklearn.manifold import TSNE\n",
    "\n",
    "X = logits_\n",
    "y = labels_\n",
    "\n",
    "tsne = TSNE(n_components=2)\n",
    "X_ = tsne.fit_transform(X)\n",
    "    \n",
    "plt.figure(figsize=(8, 6))\n",
    "u, counts = np.unique(y, return_counts=True)\n",
    "for y_ in u:\n",
    "    plt.scatter(\n",
    "        X_[y == y_, 0], X_[y == y_, 1],\n",
    "        s=10, label=f'Class {y_}', alpha=0.5)\n",
    "plt.title(\"TSNE Visualization\")\n",
    "plt.xlabel(\"t-SNE1\")\n",
    "plt.ylabel(\"t-SNE2\")\n",
    "plt.legend()"
   ]
  },
  {
   "cell_type": "markdown",
   "metadata": {},
   "source": [
    "t-SNEの可視化からもわかるように，クラスごとにクラスタが形成され，分類可能な特徴空間が学習できていることがわかる．今回はロジット空間であったが，MLPやCNNの中間層などでもこのような可視化をすると良い．\n",
    "\n",
    "しかしながら，これらの可視化を過信するのも良くはない．次元削減ということは，特徴ベクトルが持つ情報が損失しており，またクラスタ間の距離やクラスタの大きさは実際のものとは異なる．これらの手法が示すクラスタや距離はあくまで高次元空間を可視化するための近似的な表現であることに注意されたい．"
   ]
  },
  {
   "cell_type": "markdown",
   "metadata": {},
   "source": [
    "## フィルタの可視化\n",
    "\n",
    "最初の畳み込み層のフィルタを可視化する．フィルタ（重み）は次のように取得できる．"
   ]
  },
  {
   "cell_type": "code",
   "execution_count": null,
   "metadata": {},
   "outputs": [],
   "source": [
    "conv1_filters = model.conv1.weight.data.cpu().numpy()\n",
    "print(conv1_filters.shape)\n",
    "print(conv1_filters)"
   ]
  },
  {
   "cell_type": "markdown",
   "metadata": {},
   "source": [
    "最初の畳み込み層（`conv1`）は入力チャネルが1，出力チャネルが16，フィルタサイズが3なので，フィルタの形状が`（16, 1, 3, 3）` となっている．この畳み込み層には16枚のフィルタがあるのでこれを全て可視化する．"
   ]
  },
  {
   "cell_type": "code",
   "execution_count": null,
   "metadata": {},
   "outputs": [],
   "source": [
    "filters = conv1_filters\n",
    "\n",
    "fig, axes = plt.subplots(4, 4, figsize=(8, 8))\n",
    "fig.suptitle(\"Convolution Filters (16 filters of size 3x3)\")\n",
    "for i, ax in enumerate(axes.flat):\n",
    "    filter_2d = filters[i, 0]\n",
    "    img = ax.imshow(filter_2d, cmap='gray')\n",
    "    ax.axis('off') "
   ]
  },
  {
   "cell_type": "markdown",
   "metadata": {},
   "source": [
    "## 特徴マップの可視化\n",
    "\n",
    "入力が画像ということもあり，特徴マップの可視化は重要である．`test_dataset`から取り出した画像を一枚順伝播したとき，上記で可視化したフィルタを適用するとどのような特徴マップが得られるかを可視化しよう．\n",
    "\n",
    "中間層で計算される特徴マップを取得するもっとも簡単な方法は `output` に加えて，その特徴マップを `return` することであるが，今回はフックというPyTorchの機能を使って取得する．\n",
    "\n",
    "この機能は次のように `register_forward_hook` を用いて，指定の層の特徴マップを取得する．"
   ]
  },
  {
   "cell_type": "code",
   "execution_count": 11,
   "metadata": {},
   "outputs": [],
   "source": [
    "feature_maps = []\n",
    "def hook_function(module, input, output):\n",
    "    feature_maps.append(output)\n",
    "    \n",
    "model.conv1.register_forward_hook(hook_function)\n",
    "\n",
    "for batch in test_loader:\n",
    "    x, _ = batch\n",
    "    x = x.to(device)\n",
    "    \n",
    "    with torch.no_grad():\n",
    "        _ = model(x)\n",
    "    break"
   ]
  },
  {
   "cell_type": "markdown",
   "metadata": {},
   "source": [
    "これを実行すると，`feature_maps` 内に特徴マップが保存される．形状を確認すると，（ミニバッチサイズ，出力チャネル，幅，高さ）である．"
   ]
  },
  {
   "cell_type": "code",
   "execution_count": null,
   "metadata": {},
   "outputs": [],
   "source": [
    "feature_maps[0].shape"
   ]
  },
  {
   "cell_type": "markdown",
   "metadata": {},
   "source": [
    "この特徴マップの最初のサンプルの特徴マップを取得し，フィルタと同様の方法で可視化する．"
   ]
  },
  {
   "cell_type": "code",
   "execution_count": null,
   "metadata": {},
   "outputs": [],
   "source": [
    "feature_map = feature_maps[0][0]\n",
    "\n",
    "fig, axes = plt.subplots(4, 4, figsize=(8, 8))\n",
    "fig.suptitle(\"Feature Maps from Conv1 Layer\")\n",
    "for i, ax in enumerate(axes.flat):\n",
    "    feature_map_2d = feature_map[i].cpu().detach().numpy()\n",
    "    ax.imshow(feature_map_2d, cmap='gray')\n",
    "    ax.axis('off') "
   ]
  },
  {
   "cell_type": "markdown",
   "metadata": {},
   "source": [
    "結果からもわかるように，様々な特徴が強調または抑制された特徴マップが可視化できる．一般的なCNNのモデルはチャネル数も膨大で，Poolingによって低解像度化されるため，入力画像のどこを着目しているかをこれらの可視化から解釈することは難しい．しかしながら，バグチェックも含め，このような可視化は重要であるので必要な場面では確認されたい．"
   ]
  },
  {
   "cell_type": "markdown",
   "metadata": {},
   "source": [
    "## Saliency Map\n",
    "\n",
    "Saliency Mapはあるクラスに対応するロジットに対して入力の勾配を計算することで，その値を大きく変化させる画素を可視化する手法である．入力に対する勾配を計算する必要があるので，入力 `x` に対して，`x.requires_grad = True` を指定する．そして，予測クラスの特徴次元に対して逆伝播を実行する．得られた勾配の絶対値をmin-max正規化してSaliency Mapとする．"
   ]
  },
  {
   "cell_type": "code",
   "execution_count": 14,
   "metadata": {},
   "outputs": [],
   "source": [
    "loss_function = nn.CrossEntropyLoss()\n",
    "\n",
    "for batch in test_loader:\n",
    "    x, y = batch\n",
    "    x, y = x.to(device), y.to(device)\n",
    "    x, y = x[0].unsqueeze(0), y[0]\n",
    "    \n",
    "    x.requires_grad = True\n",
    "    \n",
    "    model.zero_grad()\n",
    "    output = model(x)\n",
    "    prediction = output.argmax(dim=1).item()\n",
    "    output[0, prediction].backward()\n",
    "    \n",
    "    grad = x.grad.data.cpu()\n",
    "    smap = grad.abs().numpy()\n",
    "    smap = (smap - smap.min()) / (smap.max() - smap.min())\n",
    "\n",
    "    break"
   ]
  },
  {
   "cell_type": "code",
   "execution_count": null,
   "metadata": {},
   "outputs": [],
   "source": [
    "plt.figure(figsize=(8, 8))\n",
    "\n",
    "plt.subplot(1, 2, 1)\n",
    "plt.imshow(x.cpu().detach().numpy().reshape(28, 28), cmap='gray')\n",
    "plt.title(f'Input Image')\n",
    "plt.axis('off')\n",
    "\n",
    "plt.subplot(1, 2, 2)\n",
    "plt.imshow(smap.squeeze(), cmap='hot')\n",
    "plt.title(f\"Saliency Map for Predicted Class {prediction}\")\n",
    "plt.axis(\"off\")\n",
    "plt.show()"
   ]
  },
  {
   "cell_type": "markdown",
   "metadata": {},
   "source": [
    "値が大きい画素は7の予測値を大きく変化させる画素であることを示す．結果からもわかるように，7の形がぼんやりと浮かび上がっていることがわかる．さらに良い可視化を得る手法としてGradCAMがあるので興味がある方は調べることをお勧めする．"
   ]
  }
 ],
 "metadata": {
  "kernelspec": {
   "display_name": "ml-py39",
   "language": "python",
   "name": "python3"
  },
  "language_info": {
   "codemirror_mode": {
    "name": "ipython",
    "version": 3
   },
   "file_extension": ".py",
   "mimetype": "text/x-python",
   "name": "python",
   "nbconvert_exporter": "python",
   "pygments_lexer": "ipython3",
   "version": "3.9.19"
  }
 },
 "nbformat": 4,
 "nbformat_minor": 2
}
