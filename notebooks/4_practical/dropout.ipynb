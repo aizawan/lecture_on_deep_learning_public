{
 "cells": [
  {
   "cell_type": "markdown",
   "metadata": {},
   "source": [
    "# Dropout\n",
    "\n",
    "**Dropout** は，ニューラルネットワークの過学習を防ぐために用いられる正則化手法の一つである．具体的に，順伝播の際に得られる $d$ 次元の特定の隠れ層の出力 $\\boldsymbol{h} \\in \\mathbb{R}^d$ に対して，Dropoutは特定の確率 $p$ でニューロン（特定の次元）の出力を0とする．$i$番目のニューロンについて式で書くと，\n",
    "\n",
    "$$\n",
    "h_i^{\\prime}= \\begin{cases}0 & \\text { with probability } p \\\\ \\frac{h_i}{1-p} & \\text { otherwise }\\end{cases}\n",
    "$$\n",
    "\n",
    "となる．推論時はDropoutを適用しないので，学習時と出力のスケールを一致させるために，$1/1-p$倍している．これによってテスト時の出力が学習時の期待値と一致 $\\mathbb{E}[\\boldsymbol{h}']=\\boldsymbol{h}$ する．"
   ]
  },
  {
   "cell_type": "markdown",
   "metadata": {},
   "source": [
    "PyTorchは次のようにDropoutを利用できる．"
   ]
  },
  {
   "cell_type": "code",
   "execution_count": null,
   "metadata": {},
   "outputs": [],
   "source": [
    "import torch\n",
    "import torch.nn as nn\n",
    "\n",
    "dropout = nn.Dropout(p=0.5)\n",
    "x = torch.arange(10, dtype=torch.float)\n",
    "h = dropout(x)\n",
    "\n",
    "print('x:', x)\n",
    "print('h:', h)"
   ]
  },
  {
   "cell_type": "markdown",
   "metadata": {},
   "source": [
    "一般的に，畳み込みニューラルネットワークでは畳み込みによる特徴抽出が終わって線形層でのロジットへの変換が行われる際に，Dropoutを適用することが多い．ViTではMLPブロックやAttentionへの正則化のために利用される．"
   ]
  },
  {
   "cell_type": "markdown",
   "metadata": {},
   "source": []
  }
 ],
 "metadata": {
  "kernelspec": {
   "display_name": "ml-py39",
   "language": "python",
   "name": "python3"
  },
  "language_info": {
   "codemirror_mode": {
    "name": "ipython",
    "version": 3
   },
   "file_extension": ".py",
   "mimetype": "text/x-python",
   "name": "python",
   "nbconvert_exporter": "python",
   "pygments_lexer": "ipython3",
   "version": "3.9.19"
  }
 },
 "nbformat": 4,
 "nbformat_minor": 2
}
