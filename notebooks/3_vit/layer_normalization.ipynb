{
 "cells": [
  {
   "cell_type": "markdown",
   "metadata": {},
   "source": [
    "# Layer Normalization\n",
    "\n",
    "**Layer Normalization(LN)** は，主に再起的な構造を持つRecurrent Neural Network（RNN）やTransformerモデルで利用される主に系列データに対する正規化手法である．Batch Normalization(BN)がミニバッチ全体で統計量（平均と分散）を計算するのに対し，LNは各データポイント内の特徴次元ごとに統計量を計算し正規化する．\n",
    "\n",
    "具体的に，バッチサイズ $B$ で $D$ 次元の入力を $\\boldsymbol{x} \\in \\mathbb{R}^{B \\times D}$ としたとき，各特徴次元の平均と分散を以下のように計算する．\n",
    "\n",
    "$$\n",
    "\\begin{align}\n",
    "\\mu_i &= \\frac{1}{D} \\sum_{j=1}^D x_{ij} \\\\\n",
    "\\sigma_i^2 &= \\frac{1}{D} \\sum_{j=1}^D \\left(x_{ij} - \\mu_i \\right)^2\n",
    "\\end{align}\n",
    "$$\n",
    "\n",
    "ここで，$i$ はバッチ内のデータポイントのインデックスである．この計算は各データポイントごとに行われるため，BNとは異なり，バッチサイズ $B$ に依存しない．\n",
    "\n",
    "次に，計算された統計量を使って各データポイントを正規化し，学習可能なスケールパラメータ $\\gamma \\in \\mathbb{R}^D$ とシフトパラメータ $\\beta \\in \\mathbb{R}^D$ を用いて調整する．\n",
    "\n",
    "$$\n",
    "f_{LN}(x_{ij}) = \\frac{x_{ij} - \\mu_i}{\\sqrt{\\sigma_i^2 + \\varepsilon}} \\cdot \\gamma + \\beta\n",
    "$$\n",
    "\n",
    "ここで，$\\varepsilon$ はゼロ除算を防ぐための微小定数である．\n",
    "\n",
    "LNではデータポイントごとの統計量を用いるため，BNの移動平均による統計量の記録が必要ない．"
   ]
  },
  {
   "cell_type": "markdown",
   "metadata": {},
   "source": [
    "LNは画像の場合は全チャネル・全画素の統計量を各データ単位で計算し，正規化する．ViTのような画像をパッチ化した場合，埋め込み次元に対して各パッチ単位で正規化される．LNを適用するには `torch.nn.LayerNorm` を次のように利用する．\n",
    "\n",
    "```\n",
    "torch.nn.LayerNorm(normalized_shape)\n",
    "```\n",
    "\n",
    "ここで，`normalized_shape` は特徴次元 $D$ つまりViTの場合は埋め込み次元である．"
   ]
  },
  {
   "cell_type": "code",
   "execution_count": null,
   "metadata": {},
   "outputs": [],
   "source": [
    "import torch\n",
    "import torch.nn as nn\n",
    "\n",
    "x = torch.randn(10, 32)\n",
    "norm = nn.LayerNorm(32)\n",
    "h = norm(x)\n",
    "\n",
    "print('x.shape:', x.shape)\n",
    "print('h.shape:', h.shape)"
   ]
  }
 ],
 "metadata": {
  "kernelspec": {
   "display_name": "ml-py39",
   "language": "python",
   "name": "python3"
  },
  "language_info": {
   "codemirror_mode": {
    "name": "ipython",
    "version": 3
   },
   "file_extension": ".py",
   "mimetype": "text/x-python",
   "name": "python",
   "nbconvert_exporter": "python",
   "pygments_lexer": "ipython3",
   "version": "3.9.19"
  }
 },
 "nbformat": 4,
 "nbformat_minor": 2
}
