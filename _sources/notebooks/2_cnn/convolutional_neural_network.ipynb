{
 "cells": [
  {
   "cell_type": "markdown",
   "metadata": {},
   "source": [
    "# Convolutional Neural Network"
   ]
  },
  {
   "cell_type": "markdown",
   "metadata": {},
   "source": [
    "**畳み込みニューラルネットワーク（Convolutional Neural Network, CNN）** は，主に画像データに対して高い性能を発揮する順伝播型ニューラルネットワークであり，畳み込み層とPooling層を複数積み重ねることで局所的な特徴から大域的な特徴を抽出し，その特徴から最終的に線形層から分類や回帰を行う．\n",
    "\n",
    "このノートブックでは，シンプルなCNNを構築し，MLPと同様にダミーデータを用いて順伝播を計算する．"
   ]
  },
  {
   "cell_type": "markdown",
   "metadata": {},
   "source": [
    "PyTorchでは，CNNに関しても，`nn.Module` を使ってニューラルネットワークの構造をクラスとして次のように定義することが一般的である．今回は，RGB画像を想定した3チャネルの画像を入力として受け取り，2回の畳み込みとPoolingを行い，特徴マップをベクトル化して，線形層に入力する構造とする．また畳み込みの後にBatch Normalizationを適用する．\n",
    "\n",
    "これは次のように実装できる．"
   ]
  },
  {
   "cell_type": "code",
   "execution_count": 1,
   "metadata": {},
   "outputs": [],
   "source": [
    "import torch\n",
    "import torch.nn as nn\n",
    "\n",
    "class CNN(nn.Module):\n",
    "    def __init__(self, in_channels, num_classes):\n",
    "        super(CNN, self).__init__()\n",
    "        self.conv1 = nn.Conv2d(in_channels, 16, kernel_size=3, stride=1, padding=1)\n",
    "        self.bn1 = nn.BatchNorm2d(16)\n",
    "        self.pool1 = nn.MaxPool2d(kernel_size=2, stride=2)\n",
    "        self.conv2 = nn.Conv2d(16, 32, kernel_size=3, stride=1, padding=1)\n",
    "        self.bn2 = nn.BatchNorm2d(32)\n",
    "        self.pool2 = nn.MaxPool2d(kernel_size=2, stride=2)\n",
    "        self.gap = nn.AdaptiveAvgPool2d(1)\n",
    "        self.flatten = nn.Flatten()\n",
    "        self.fc = nn.Linear(32, num_classes)\n",
    "\n",
    "    def forward(self, x):\n",
    "        x = self.conv1(x)\n",
    "        x = self.bn1(x)\n",
    "        x = nn.functional.relu(x)\n",
    "        x = self.pool1(x)\n",
    "        x = self.conv2(x)\n",
    "        x = self.bn2(x)\n",
    "        x = nn.functional.relu(x)\n",
    "        x = self.pool2(x)\n",
    "        x = self.gap(x)\n",
    "        x = self.flatten(x)\n",
    "        x = self.fc(x)\n",
    "        return x"
   ]
  },
  {
   "cell_type": "markdown",
   "metadata": {},
   "source": [
    "これを `in_channels=3`，`num_classes=10` としてインスタンス化する．"
   ]
  },
  {
   "cell_type": "code",
   "execution_count": 2,
   "metadata": {},
   "outputs": [],
   "source": [
    "in_channels = 3\n",
    "num_classes = 10\n",
    "model = CNN(in_channels=in_channels, num_classes=num_classes)"
   ]
  },
  {
   "cell_type": "markdown",
   "metadata": {},
   "source": [
    "モデルの構造を確認する．"
   ]
  },
  {
   "cell_type": "code",
   "execution_count": null,
   "metadata": {},
   "outputs": [],
   "source": [
    "print(model)"
   ]
  },
  {
   "cell_type": "markdown",
   "metadata": {},
   "source": [
    "今回は活性化関数を `nn.functional.relu` で作成した．これは，`nn.ReLU` とは異なり，インスタンス化が不要な関数であり，関数として直接呼び出すことができる．\n",
    "\n",
    "`nn.ReLU` は明示的にモデル内部に活性化関数を定義することができ，`nn.ReLU(inplace=True)` とするとメモリ効率を向上することができるが，基本的にはどちらの実装でも良い．"
   ]
  },
  {
   "cell_type": "markdown",
   "metadata": {},
   "source": [
    "続いて，MLPと同様に正しく順伝播できるかどうかをダミーデータを与えてチェックしよう．今回は，$32 \\times 32$ サイズの入力を考える．"
   ]
  },
  {
   "cell_type": "code",
   "execution_count": null,
   "metadata": {},
   "outputs": [],
   "source": [
    "batch_size = 3\n",
    "height, width = 32, 32\n",
    "input_size = (batch_size, in_channels, height, width)\n",
    "dummy_input = torch.randn(*input_size)\n",
    "\n",
    "print('dummy_input.shape:', dummy_input.shape)\n",
    "print('dummy_input = ')\n",
    "print(dummy_input)"
   ]
  },
  {
   "cell_type": "markdown",
   "metadata": {},
   "source": [
    "バッチサイズも含めて4回のテンソルが作成できた．順伝播を行い，(バッチサイズ, クラス数)の出力が得られることを確認する．"
   ]
  },
  {
   "cell_type": "code",
   "execution_count": null,
   "metadata": {},
   "outputs": [],
   "source": [
    "output = model(dummy_input)\n",
    "\n",
    "print('output.shape: ', output.shape)\n",
    "print('output = ')\n",
    "print(output)"
   ]
  },
  {
   "cell_type": "markdown",
   "metadata": {},
   "source": [
    "このときエラーが発生する場合は `forward` 関数内の処理（特に，ベクトル化の処理）か畳み込みの入出力チャネル数を間違えていることが多い．"
   ]
  },
  {
   "cell_type": "markdown",
   "metadata": {},
   "source": [
    "層へのアクセスやパラメータ数の取得方法も確認しておく．基本的にはMLPの場合と同じである．"
   ]
  },
  {
   "cell_type": "code",
   "execution_count": null,
   "metadata": {},
   "outputs": [],
   "source": [
    "total_params = 0\n",
    "for name, param in model.named_parameters():\n",
    "    print(f'{name} shape: {param.shape}')\n",
    "    total_params += param.numel()\n",
    "\n",
    "print(f'Total number of trainable parameters: {total_params}')"
   ]
  }
 ],
 "metadata": {
  "kernelspec": {
   "display_name": "ml-py39",
   "language": "python",
   "name": "python3"
  },
  "language_info": {
   "codemirror_mode": {
    "name": "ipython",
    "version": 3
   },
   "file_extension": ".py",
   "mimetype": "text/x-python",
   "name": "python",
   "nbconvert_exporter": "python",
   "pygments_lexer": "ipython3",
   "version": "3.9.19"
  }
 },
 "nbformat": 4,
 "nbformat_minor": 2
}
