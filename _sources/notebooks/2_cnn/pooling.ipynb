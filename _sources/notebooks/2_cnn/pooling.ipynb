{
 "cells": [
  {
   "cell_type": "markdown",
   "metadata": {},
   "source": [
    "# Pooling層\n",
    "\n",
    "このノートブックでは，CNNの重要な構成要素の1つであるプーリング層（Pooling Layer）について説明する．プーリング層は，畳み込み層と組み合わせて用いられ，特徴マップのダウンサンプリングを行うことで計算効率の向上と特徴の位置不変性を実現する．プーリング層は，入力された特徴マップの空間的なサイズを縮小する操作を行う．具体的には，特徴マップの各領域から代表的な値を選択または計算することで，より小さな特徴マップを生成する．この操作によって，パラメータ数と計算量の削減，位置ズレに対する頑健性の向上などの利点がある．"
   ]
  },
  {
   "cell_type": "markdown",
   "metadata": {},
   "source": [
    "## Poolingの演算\n",
    "\n",
    "高さが $H$ で幅が $W$ のチャネル数 $C$ の入力特徴マップ $\\boldsymbol{X} \\in \\mathbb{R}^{H \\times W \\times C}$ に対して，プーリング演算は以下のように定式化できる：\n",
    "\n",
    "$$\n",
    "\\boldsymbol{H}_{i,j,c} = f_\\mathrm{pool}({\\boldsymbol{X}_{i \\cdot s + a, j \\cdot s + b, c} \\mid a \\in {0,\\ldots,k-1}, b \\in {0,\\ldots,k-1}})\n",
    "$$\n",
    "\n",
    "Poolingは，畳み込み層のように，固定のフィルタサイズ $k$ で定義される局所領域をストライド $s$ で走査しながら，その領域に対してPoolingは特定領域内の情報を集約する処理を行う．このような局所領域に対する演算であるが，畳み込みとは異なり，学習可能なパラメータを持たない．具体的に，関数 $f_\\mathrm{pool}$ は，各領域内の最大値を選択する処理（これを **Max Pooling** とよぶ）や領域内の平均値を選択する処理（これを **Average Pooling** とよぶ）をする．\n"
   ]
  },
  {
   "cell_type": "markdown",
   "metadata": {},
   "source": [
    "### Max Pooling\n",
    "\n",
    "**最大値プーリング（Max Pooling）** は各領域内の最大値を代表値として次の層へ伝播する．\n",
    "\n",
    "$$\n",
    "\\boldsymbol{H}_{i,j,c} = \\max_{a,b} \\boldsymbol{X}_{i \\cdot s + a, j \\cdot s + b, c}\n",
    "$$\n",
    "\n",
    "具体例として，$4 \\times 4$ の入力特徴マップ $\\boldsymbol{X}$ に対して，$2 \\times 2$ のウィンドウサイズでストライド2のMax Poolingを適用する例を考える．\n",
    "\n",
    "$$\n",
    "\\boldsymbol{X} = \\begin{bmatrix}\n",
    "\\textcolor{#0099ff}{1} & \\textcolor{#0099ff}{3} & \\textcolor{#cc0000}{2} & \\textcolor{#cc0000}{5} \\\\\n",
    "\\textcolor{#0099ff}{2} & \\textcolor{#0099ff}{1} & \\textcolor{#cc0000}{4} & \\textcolor{#cc0000}{2} \\\\\n",
    "\\textcolor{#ffdd33}{5} & \\textcolor{#ffdd33}{2} & \\textcolor{#009933}{3} & \\textcolor{#009933}{1} \\\\\n",
    "\\textcolor{#ffdd33}{1} & \\textcolor{#ffdd33}{3} & \\textcolor{#009933}{2} & \\textcolor{#009933}{4}\n",
    "\\end{bmatrix}\n",
    "$$\n",
    "\n",
    "この入力に対してMax Poolingを適用すると次のようになる（Poolingの領域を色で示した）．\n",
    "\n",
    "$$\n",
    "\\boldsymbol{H} = \\begin{bmatrix}\n",
    "\\textcolor{#0099ff}{3} & \\textcolor{#cc0000}{5}  \\\\\n",
    "\\textcolor{#ffdd33}{5} & \\textcolor{#009933}{4} \n",
    "\\end{bmatrix}\n",
    "$$\n",
    "\n",
    "例えば，左上 $(i,j)=(1,1)$ の場合，$\\boldsymbol{H}_{1,1} = \\max (1,3,2,1) = 3$ という計算をしている．"
   ]
  },
  {
   "cell_type": "markdown",
   "metadata": {},
   "source": [
    "MaxPoolingは次のように利用できる．"
   ]
  },
  {
   "cell_type": "code",
   "execution_count": null,
   "metadata": {},
   "outputs": [],
   "source": [
    "import torch\n",
    "import torch.nn as nn\n",
    "\n",
    "x = torch.tensor([\n",
    "    [1, 3, 2, 5],\n",
    "    [2, 1, 4, 2],\n",
    "    [5, 2, 3, 1],\n",
    "    [1, 3, 2, 4]\n",
    "], dtype=torch.float32)\n",
    "x = x.unsqueeze(0).unsqueeze(0)\n",
    "\n",
    "max_pool = nn.MaxPool2d(kernel_size=2, stride=2)\n",
    "h = max_pool(x)\n",
    "\n",
    "print('x.shape:', x.shape)\n",
    "print(x)\n",
    "print('h.shape:', h.shape)\n",
    "print(h)"
   ]
  },
  {
   "cell_type": "markdown",
   "metadata": {},
   "source": [
    "### Average Pooling\n",
    "\n",
    "**平均値プーリング（Average Pooling）** は各領域内の平均値を代表値として次の層へ伝播する．\n",
    "\n",
    "$$\n",
    "\\boldsymbol{H}_{i,j,c} = \\frac{1}{k^2} \\sum_{a=0}^{k-1} \\sum_{b=0}^{k-1} \\boldsymbol{X}_{i \\cdot s + a, j \\cdot s + b, c}\n",
    "$$\n",
    "\n",
    "Max Poolingと同じ $4 \\times 4$ の入力特徴マップ $\\boldsymbol{X}$ に対して，$2 \\times 2$ のウィンドウサイズでストライド2のAverage Poolingを適用すると次のようになる．\n",
    "\n",
    "$$\n",
    "\\boldsymbol{H} = \\begin{bmatrix}\n",
    "1.75 & 3.25 \\\n",
    "2.75 & 2.5\n",
    "\\end{bmatrix}\n",
    "$$\n",
    "\n",
    "例えば，左上 $(i,j)=(1,1)$ の場合，$\\boldsymbol{H}_{1,1} = (1+3+2+1)/4 = 1.75$ という計算をしている．"
   ]
  },
  {
   "cell_type": "markdown",
   "metadata": {},
   "source": [
    "Average PoolingはPyTorchで次のように利用できる．"
   ]
  },
  {
   "cell_type": "code",
   "execution_count": null,
   "metadata": {},
   "outputs": [],
   "source": [
    "avg_pool = nn.AvgPool2d(kernel_size=2, stride=2)\n",
    "h = avg_pool(x)\n",
    "\n",
    "print('x.shape:', x.shape)\n",
    "print(x)\n",
    "print('h.shape:', h.shape)\n",
    "print(h)"
   ]
  },
  {
   "cell_type": "markdown",
   "metadata": {},
   "source": [
    "### Global Average Pooling\n",
    "\n",
    "主に分類タスクにおけるCNNの最後の畳み込み層の出力を線形層に入力する前に使用されるPoolingとして，**Global Average Pooling** がある．これは，特徴マップ全体に対して一つの値を計算する．\n",
    "\n",
    "$$\n",
    "\\boldsymbol{h}_c = \\frac{1}{H \\cdot W} \\sum_{i=1}^H \\sum_{j=1}^W \\boldsymbol{X}_{i,j,c}\n",
    "$$\n",
    "\n",
    "これにより，例えば，特徴マップ $\\boldsymbol{X} \\in \\mathbb{R}^{H \\times W \\times C}$ をチャネル数の次元を持つベクトル $\\boldsymbol{X}'\\in \\mathbb{R}^{C}$ に変換できる．これによって `Flatten` などを利用せずとも，特徴マップをベクトル化できる．\n",
    "\n",
    "平均の代わりに最大値を取る **Global Max Pooling** もあるが，平均化の方が一般的である．\n",
    "\n",
    "Max Poolingと同じ $4 \\times 4$ の入力特徴マップ $\\boldsymbol{X}$ に対して，$2 \\times 2$ のウィンドウサイズでストライド2のGlobal Average Poolingを適用すると次のようになる．\n",
    "\n",
    "$$\n",
    "\\boldsymbol{h} = \\frac{1}{16}(1 + 3 + 2 + 5 + 2 + 1 + 4 + 2 + 5 + 2 + 3 + 1 + 1 + 3 + 2 + 4) = 2.5625\n",
    "$$"
   ]
  },
  {
   "cell_type": "markdown",
   "metadata": {},
   "source": [
    "Global Average PoolingはPyTorchで次のように利用できる．"
   ]
  },
  {
   "cell_type": "code",
   "execution_count": null,
   "metadata": {},
   "outputs": [],
   "source": [
    "global_avg_pool = nn.AdaptiveAvgPool2d(output_size=(1, 1))\n",
    "h = global_avg_pool(x)\n",
    "\n",
    "print('x.shape:', x.shape)\n",
    "print(x)\n",
    "print('h.shape:', h.shape)\n",
    "print(h)"
   ]
  },
  {
   "cell_type": "code",
   "execution_count": null,
   "metadata": {},
   "outputs": [],
   "source": []
  }
 ],
 "metadata": {
  "kernelspec": {
   "display_name": "ml-py39",
   "language": "python",
   "name": "python3"
  },
  "language_info": {
   "codemirror_mode": {
    "name": "ipython",
    "version": 3
   },
   "file_extension": ".py",
   "mimetype": "text/x-python",
   "name": "python",
   "nbconvert_exporter": "python",
   "pygments_lexer": "ipython3",
   "version": "3.9.19"
  }
 },
 "nbformat": 4,
 "nbformat_minor": 2
}
