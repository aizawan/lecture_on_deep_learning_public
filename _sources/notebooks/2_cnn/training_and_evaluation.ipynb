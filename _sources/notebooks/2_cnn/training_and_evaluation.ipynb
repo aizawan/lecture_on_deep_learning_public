{
 "cells": [
  {
   "cell_type": "markdown",
   "metadata": {},
   "source": [
    "# 学習と評価\n",
    "\n",
    "このノートブックでは，畳み込みニューラルネットワークの学習と評価を行うためのパイプラインを実装する．基本的には，モデル構築とデータセットが異なるのみで，MLPの場合とほぼ同じ手順とコードとなる．\n",
    "\n",
    "そのため，データセットの作成を中心に学習と評価の説明を行う．"
   ]
  },
  {
   "cell_type": "markdown",
   "metadata": {},
   "source": [
    "## データセットの準備\n",
    "\n",
    "画像のデータセットを扱う際，自作データセットを用いない限り，`torchvision` をインポートして，使用するデータセットのインスタンス化とデータの前処理を含む **データ拡張（Data augmentation）** の設定を実装すればすぐに利用できる．\n",
    "\n",
    "このノートブックでは，最もシンプルな画像データセットである **MNIST** を用いて説明する．まずはMNISTのデータセットの説明を行うために，データ拡張なしで次のようにMNISTのデータセットを作成する．"
   ]
  },
  {
   "cell_type": "code",
   "execution_count": 23,
   "metadata": {},
   "outputs": [],
   "source": [
    "from torchvision import datasets\n",
    "\n",
    "train_dataset = datasets.MNIST(root='./data', train=True, download=True)\n",
    "test_dataset = datasets.MNIST(root='./data', train=False, download=True)"
   ]
  },
  {
   "cell_type": "markdown",
   "metadata": {},
   "source": [
    "初回実行時はMNISTを `root=./data` にダウンロードするので時間がかかる．次のセルではデータ数を `len` 関数で出力しており，正しくダウンロードができていたらデータ数が学習データセットが60,000サンプルで，評価データセットが10,000サンプルと表示されるはずである．"
   ]
  },
  {
   "cell_type": "code",
   "execution_count": null,
   "metadata": {},
   "outputs": [],
   "source": [
    "print('train dataset:', len(train_dataset))\n",
    "print('test dataset:', len(test_dataset))"
   ]
  },
  {
   "cell_type": "markdown",
   "metadata": {},
   "source": [
    "続いて，インデックスを使ってデータセットからデータを取り出して，入力される画像を確認する．"
   ]
  },
  {
   "cell_type": "code",
   "execution_count": 25,
   "metadata": {},
   "outputs": [],
   "source": [
    "i = 10\n",
    "x, y = train_dataset[i]"
   ]
  },
  {
   "cell_type": "markdown",
   "metadata": {},
   "source": [
    "ここで取得される `x` は `PIL.Image.Image` 形式の画像データとなっている．"
   ]
  },
  {
   "cell_type": "code",
   "execution_count": null,
   "metadata": {},
   "outputs": [],
   "source": [
    "print('type(x):', type(x))\n",
    "print('type(y):', type(y))"
   ]
  },
  {
   "cell_type": "markdown",
   "metadata": {},
   "source": [
    "これを一度 numpy形式に変換して，matplotlibで可視化してみる．"
   ]
  },
  {
   "cell_type": "code",
   "execution_count": null,
   "metadata": {},
   "outputs": [],
   "source": [
    "import numpy as np\n",
    "import matplotlib.pyplot as plt\n",
    "\n",
    "img = np.array(x)\n",
    "plt.imshow(img, cmap='gray')\n",
    "plt.title(f'label y: {y}')\n",
    "plt.axis('off')"
   ]
  },
  {
   "cell_type": "markdown",
   "metadata": {},
   "source": [
    "`x` と `y` のデータ型からも明らかであるように，CNNへ入力するためには，`torch.Tensor` 型に変換する必要がある．また次のように `img` の最小値最大値を見ると，"
   ]
  },
  {
   "cell_type": "code",
   "execution_count": null,
   "metadata": {},
   "outputs": [],
   "source": [
    "print('img.min():', img.min())\n",
    "print('img.max():', img.max())"
   ]
  },
  {
   "cell_type": "markdown",
   "metadata": {},
   "source": [
    "となっており，値の範囲が正規化されていない．正規化とデータ型の変換は次の `transform` を定義して行う．"
   ]
  },
  {
   "cell_type": "code",
   "execution_count": 29,
   "metadata": {},
   "outputs": [],
   "source": [
    "from torchvision import transforms\n",
    "\n",
    "transform = transforms.Compose([\n",
    "    transforms.ToTensor(),\n",
    "])"
   ]
  },
  {
   "cell_type": "markdown",
   "metadata": {},
   "source": [
    "この `transform` に `PIL.Image.Image` 形式の `x` を与えると，"
   ]
  },
  {
   "cell_type": "code",
   "execution_count": null,
   "metadata": {},
   "outputs": [],
   "source": [
    "x = transform(x)\n",
    "\n",
    "print('type(x):', type(x))\n",
    "print('x.min():', x.min())\n",
    "print('x.max():', x.max())"
   ]
  },
  {
   "cell_type": "markdown",
   "metadata": {},
   "source": [
    "と，データ型が変換され，最小値と最大値が0から1の範囲に収められていることがわかる．モデルはこのような変換を施した入力を与える必要がある．またこの `transform` はデータ拡張にも利用することができる．\n",
    "\n",
    "そして，この `transform` は次のようにデータセット作成時に渡すことでデータセットクラス内部でこの処理を実行してくれる．"
   ]
  },
  {
   "cell_type": "code",
   "execution_count": null,
   "metadata": {},
   "outputs": [],
   "source": [
    "train_dataset = datasets.MNIST(\n",
    "    root='./data', transform=transform, train=True, download=True)\n",
    "test_dataset = datasets.MNIST(\n",
    "    root='./data', transform=transform, train=False, download=True)\n",
    "\n",
    "x, y = train_dataset[i]\n",
    "print('type(x):', type(x))\n",
    "print('x.min():', x.min())\n",
    "print('x.max():', x.max())"
   ]
  },
  {
   "cell_type": "markdown",
   "metadata": {},
   "source": [
    "データセットの準備ができたので，次は検証データを作成する．PyTorchのデータセットは `torch.utils.data.random_split` で行える．"
   ]
  },
  {
   "cell_type": "code",
   "execution_count": null,
   "metadata": {},
   "outputs": [],
   "source": [
    "import torch\n",
    "\n",
    "train_size = int(len(train_dataset) * 0.9)\n",
    "valid_size = int(len(train_dataset) - train_size)\n",
    "train_dataset, valid_dataset = torch.utils.data.random_split(\n",
    "    train_dataset, [train_size, valid_size])\n",
    "\n",
    "print(f'train data: {len(train_dataset)}')\n",
    "print(f'validation data: {len(valid_dataset)}')\n",
    "print(f'test data: {len(test_dataset)}')"
   ]
  },
  {
   "cell_type": "markdown",
   "metadata": {},
   "source": [
    "データローダーを作成する．"
   ]
  },
  {
   "cell_type": "code",
   "execution_count": 33,
   "metadata": {},
   "outputs": [],
   "source": [
    "from torch.utils.data import DataLoader\n",
    "\n",
    "train_loader = DataLoader(train_dataset, batch_size=128)\n",
    "valid_loader = DataLoader(valid_dataset, batch_size=100)\n",
    "test_loader = DataLoader(test_dataset, batch_size=100)"
   ]
  },
  {
   "cell_type": "markdown",
   "metadata": {},
   "source": [
    "ミニバッチが正しく得られることを確認しておこう．このときの入力サイズが意図しないものだと順伝播時にエラーが生ずるのでダミーデータと同様の形状が得られていることを確認しよう．"
   ]
  },
  {
   "cell_type": "code",
   "execution_count": null,
   "metadata": {},
   "outputs": [],
   "source": [
    "for batch in train_loader:\n",
    "    x, y = batch\n",
    "    print(x.shape, y.shape)\n",
    "    break"
   ]
  },
  {
   "cell_type": "markdown",
   "metadata": {},
   "source": [
    "## モデルの構築\n",
    "\n",
    "MNISTはグレースケール画像（1チャネル）で0から9までの数字の分類なので，CNNのインスタンス化では `in_channels=1` と `num_classes=10` を与える．"
   ]
  },
  {
   "cell_type": "code",
   "execution_count": 35,
   "metadata": {},
   "outputs": [],
   "source": [
    "import torch.nn as nn\n",
    "\n",
    "class CNN(nn.Module):\n",
    "    def __init__(self, in_channels, num_classes):\n",
    "        super(CNN, self).__init__()\n",
    "        self.conv1 = nn.Conv2d(in_channels, 16, kernel_size=3, stride=1, padding=1)\n",
    "        self.bn1 = nn.BatchNorm2d(16)\n",
    "        self.pool1 = nn.MaxPool2d(kernel_size=2, stride=2)\n",
    "        self.conv2 = nn.Conv2d(16, 32, kernel_size=3, stride=1, padding=1)\n",
    "        self.bn2 = nn.BatchNorm2d(32)\n",
    "        self.pool2 = nn.MaxPool2d(kernel_size=2, stride=2)\n",
    "        self.gap = nn.AdaptiveAvgPool2d(1)\n",
    "        self.flatten = nn.Flatten()\n",
    "        self.fc = nn.Linear(32, num_classes)\n",
    "\n",
    "    def forward(self, x):\n",
    "        x = self.conv1(x)\n",
    "        x = self.bn1(x)\n",
    "        x = nn.functional.relu(x)\n",
    "        x = self.pool1(x)\n",
    "        x = self.conv2(x)\n",
    "        x = self.bn2(x)\n",
    "        x = nn.functional.relu(x)\n",
    "        x = self.pool2(x)\n",
    "        x = self.gap(x)\n",
    "        x = self.flatten(x)\n",
    "        x = self.fc(x)\n",
    "        return x\n",
    "    \n",
    "in_channels = 1\n",
    "num_classes = 10\n",
    "model = CNN(in_channels=in_channels, num_classes=num_classes)"
   ]
  },
  {
   "cell_type": "markdown",
   "metadata": {},
   "source": [
    "## GPUでの実行\n",
    "\n",
    "深層学習はCPU上で実行すると，MLP程度のスケールなら問題ないが，画像データを扱うCNN程度のスケールとなると，学習の時間が非常に長くなる．ここでは，GPU上で実行する方法を紹介する．\n",
    "\n",
    "まず，GPUが利用可能な環境化を確認しよう．PyTorchで使用可能なGPUを確認するには，`torch.cuda.is_available()` と `torch.cuda.device_count()` を利用するとよい．"
   ]
  },
  {
   "cell_type": "code",
   "execution_count": null,
   "metadata": {},
   "outputs": [],
   "source": [
    "if torch.cuda.is_available():\n",
    "    print(\"GPU is available.\")\n",
    "    print(f\"Number of available GPUs: {torch.cuda.device_count()}\")\n",
    "\n",
    "    for i in range(torch.cuda.device_count()):\n",
    "        print(f\"GPU {i}: {torch.cuda.get_device_name(i)}\")\n",
    "else:\n",
    "    print(\"GPU is not available.\")"
   ]
  },
  {
   "cell_type": "markdown",
   "metadata": {},
   "source": [
    "利用できるならば，次のようにGPUデバイス（`device`）の設定を行い，モデルをデバイス上に移動させる．"
   ]
  },
  {
   "cell_type": "code",
   "execution_count": null,
   "metadata": {},
   "outputs": [],
   "source": [
    "device = torch.device(\"cuda\" if torch.cuda.is_available() else \"cpu\")\n",
    "model.to(device)"
   ]
  },
  {
   "cell_type": "markdown",
   "metadata": {},
   "source": [
    "## 学習・検証ループ"
   ]
  },
  {
   "cell_type": "markdown",
   "metadata": {},
   "source": [
    "モデルがGPU上にある場合は，`x` と `y` もGPU上に移動させる必要がある．その移動は，\n",
    "\n",
    "```\n",
    "x = x.to(device)\n",
    "y = y.to(device)\n",
    "```\n",
    "\n",
    "とすれば良い．ここが正しく設定できれば学習・検証・評価のループはMLPのものを再利用できる．\n",
    "\n",
    "まずはこれを引数とバッチに反映した学習（`train_one_epoch`）と検証・評価（`test`）の関数を作成する．"
   ]
  },
  {
   "cell_type": "code",
   "execution_count": 38,
   "metadata": {},
   "outputs": [],
   "source": [
    "def train_one_epoch(model, loader, loss_function, optimizer, device):\n",
    "    model.train()\n",
    "    train_loss, train_acc = [], []\n",
    "    for batch in loader:\n",
    "        x, y = batch\n",
    "        x, y = x.to(device), y.to(device)\n",
    "        optimizer.zero_grad()\n",
    "        output = model(x)\n",
    "        loss = loss_function(output, y)\n",
    "        loss.backward()\n",
    "        optimizer.step()\n",
    "            \n",
    "        acc = (output.max(1)[1] == y).float().mean()\n",
    "        train_loss.append(loss.item())\n",
    "        train_acc.append(acc.item())\n",
    "    return np.mean(train_loss), np.mean(train_acc)"
   ]
  },
  {
   "cell_type": "code",
   "execution_count": 39,
   "metadata": {},
   "outputs": [],
   "source": [
    "def test(model, loader, loss_function, device):\n",
    "    model.eval()\n",
    "    test_loss, test_acc = [], []\n",
    "    with torch.no_grad():\n",
    "        for batch in loader:\n",
    "            x, y = batch\n",
    "            x, y = x.to(device), y.to(device)\n",
    "            output = model(x)\n",
    "            loss = loss_function(output, y)\n",
    "      \n",
    "            acc = (output.max(1)[1] == y).float().mean()\n",
    "            test_loss.append(loss.item())\n",
    "            test_acc.append(acc.item())\n",
    "    return np.mean(test_loss), np.mean(test_acc)"
   ]
  },
  {
   "cell_type": "markdown",
   "metadata": {},
   "source": [
    "そして，学習・検証・評価を含めたループは次のようになる．"
   ]
  },
  {
   "cell_type": "code",
   "execution_count": null,
   "metadata": {},
   "outputs": [],
   "source": [
    "from torch import optim\n",
    "\n",
    "loss_function = nn.CrossEntropyLoss()\n",
    "optimizer = optim.SGD(model.parameters(), lr=0.1)\n",
    "\n",
    "epochs = 10\n",
    "train_loss, train_acc = [], []\n",
    "valid_loss, valid_acc = [], []\n",
    "for epoch in range(1, epochs+1):\n",
    "    print(f'Epoch {epoch}/{epochs}')\n",
    "    loss, acc = train_one_epoch(model, train_loader, loss_function, optimizer, device)\n",
    "    print(f'train_loss - {loss:.4f}, train_acc - {acc:.4f}')\n",
    "    train_loss.append(loss)\n",
    "    train_acc.append(acc)\n",
    "    \n",
    "    loss, acc = test(model, valid_loader, loss_function, device)\n",
    "    print(f'valid_loss - {loss:.4f}, valid_acc - {acc:.4f}')\n",
    "    valid_loss.append(loss)\n",
    "    valid_acc.append(acc)\n",
    "    \n",
    "    print('')\n",
    "    \n",
    "test_loss, test_acc = test(model, test_loader, loss_function, device)\n",
    "print('test_loss = ', test_loss)\n",
    "print('test_acc = ', test_acc)"
   ]
  },
  {
   "cell_type": "markdown",
   "metadata": {},
   "source": [
    "モデルサイズ，入力サイズ，GPUの性能によってこのセルの実行時間は異なるが10epochほどであればおおよそ数分かかる．損失が下がっていれば，10 epochで90%ほどになるかと思う．\n",
    "\n",
    "では，予測結果を出力してみよう．"
   ]
  },
  {
   "cell_type": "code",
   "execution_count": null,
   "metadata": {},
   "outputs": [],
   "source": [
    "model.eval()\n",
    "for batch in test_loader:\n",
    "    x, y = batch\n",
    "    x, y = x.to(device), y.to(device)\n",
    "    \n",
    "    with torch.no_grad():\n",
    "        output = model(x)\n",
    "        _, prediction = torch.max(output, 1)\n",
    "        \n",
    "    fig, axes = plt.subplots(1, 10, figsize=(15, 2))\n",
    "    for i in range(10):\n",
    "        img = x[i].cpu().numpy().squeeze()\n",
    "        axes[i].imshow(img, cmap=\"gray\")\n",
    "        axes[i].set_title(f\"Pred: {prediction[i].item()} - GT: {y[i].item()}\")\n",
    "        axes[i].axis(\"off\")\n",
    "\n",
    "    plt.tight_layout()\n",
    "    plt.show()\n",
    "    break"
   ]
  },
  {
   "cell_type": "markdown",
   "metadata": {},
   "source": [
    "予測結果（`Pred`）と正解（`GT`）を比較してみると，おおよそ9割程度の正解率であることがわかる．また外観が似た数字間で予測を間違えていることも確認できる．このような可視化からもわかるように，モデルの苦手な予測クラスなどの分析に繋がるので，可視化は必ずしよう．\n",
    "\n",
    "注意点として，matplotlibの可視化の際に，GPU上にある結果をCPU上に移動させる必要がある．具体的に\n",
    "\n",
    "```\n",
    "img = x[i].cpu().numpy().squeeze()\n",
    "```\n",
    "\n",
    "の部分である．CPUへの移動は `.cpu()` で行えるので忘れないようにしよう．"
   ]
  },
  {
   "cell_type": "markdown",
   "metadata": {},
   "source": [
    "## モデルの保存\n",
    "\n",
    "モデルも忘れずに保存する．保存方法はMLPと同様である．"
   ]
  },
  {
   "cell_type": "code",
   "execution_count": 42,
   "metadata": {},
   "outputs": [],
   "source": [
    "import os\n",
    "os.makedirs('output', exist_ok=True)\n",
    "\n",
    "save_path = 'output/model.pth'\n",
    "torch.save(model.state_dict(), save_path)"
   ]
  },
  {
   "cell_type": "markdown",
   "metadata": {},
   "source": [
    "## 学習結果の表示と保存\n",
    "\n",
    "学習曲線の可視化と再現性のためにその値を保存する．こちらもMLPと同様のコードで実行できる．"
   ]
  },
  {
   "cell_type": "code",
   "execution_count": null,
   "metadata": {},
   "outputs": [],
   "source": [
    "import matplotlib.pyplot as plt\n",
    "\n",
    "plt.figure(figsize=(8, 4))\n",
    "plt.subplot(1, 2, 1)\n",
    "plt.plot(train_loss, label='train_loss')\n",
    "plt.plot(valid_loss, label='valid_loss')\n",
    "plt.xlabel('Epoch')\n",
    "plt.ylabel('Loss')\n",
    "plt.legend()\n",
    "plt.grid(True)\n",
    "\n",
    "plt.subplot(1, 2, 2)\n",
    "plt.plot(train_acc, label='train_acc')\n",
    "plt.plot(valid_acc, label='valid_acc')\n",
    "plt.xlabel('Epoch')\n",
    "plt.ylabel('Accuracy')\n",
    "plt.legend()\n",
    "plt.grid(True)\n",
    "plt.show();"
   ]
  },
  {
   "cell_type": "code",
   "execution_count": 44,
   "metadata": {},
   "outputs": [],
   "source": [
    "np.savetxt('output/train_loss.txt', train_loss)\n",
    "np.savetxt('output/train_acc.txt', train_acc)\n",
    "\n",
    "np.savetxt('output/valid_loss.txt', valid_loss)\n",
    "np.savetxt('output/valid_acc.txt', valid_acc)"
   ]
  }
 ],
 "metadata": {
  "kernelspec": {
   "display_name": "ml-py39",
   "language": "python",
   "name": "python3"
  },
  "language_info": {
   "codemirror_mode": {
    "name": "ipython",
    "version": 3
   },
   "file_extension": ".py",
   "mimetype": "text/x-python",
   "name": "python",
   "nbconvert_exporter": "python",
   "pygments_lexer": "ipython3",
   "version": "3.9.19"
  }
 },
 "nbformat": 4,
 "nbformat_minor": 2
}
