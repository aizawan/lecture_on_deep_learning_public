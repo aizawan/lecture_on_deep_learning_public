{
 "cells": [
  {
   "cell_type": "markdown",
   "metadata": {},
   "source": [
    "# 多層パーセプロトロン\n",
    "\n",
    "このノートブックでは，線形層と活性化関数を定義して，多層パーセプトロンを構築する．**多層パーセプトロン（Multi-Layer Perceptron, MLP）** は，線形層による線形変換と活性化関数による非線形変換を組み合わせた層を複数重ねることで多層化し，入力から出力への複雑な非線形マッピングをモデル化する基本的な順伝播型ニューラルネットワークである．\n",
    "\n",
    "MLPは一般的に，入力データを特定の次元に変換する入力層（input layer），線形・非線形変換を行う隠れ層（hidden layer），最終的な予測結果を出力する出力層（output layer）から構成される．隠れ層は中間層とも呼ばれる．MLPがこれらの層全てで $L$ 層あるとき，入力データ $\\boldsymbol{x} \\in \\mathbb{R}^{B \\times D_{in}}$ に対する第$l$層目（$l=1,2,...,L$) の計算を説明する．\n",
    "\n",
    "まず，$l=1$ である入力層では，入力データ $\\boldsymbol{h}_{0}=\\boldsymbol{x}$ を与えられ，次のように線形層によって線形変換される．\n",
    "\n",
    "$$\n",
    "\\boldsymbol{h}_1 = \\boldsymbol{h}_0 \\boldsymbol{W}_1^\\top + \\boldsymbol{b}_1\n",
    "$$\n",
    "\n",
    "ここで，$D_{hidden}$ は隠れ層の特徴次元としたとき，重み行列 $\\boldsymbol{W}_1$ の次元は $D_{hidden} \\times D_{in}$ であり，バイアス $\\boldsymbol{b}_1$ は $D_{hidden}$ 次元の縦ベクトルである．続いて，活性化関数を\n",
    "\n",
    "$$\n",
    "\\boldsymbol{a}_1 = f(\\boldsymbol{h}_1)\n",
    "$$\n",
    "\n",
    "と適用した後，計算結果 $\\boldsymbol{a}_1$ は第$l=2$層の隠れ層に伝播される．この層では，同様に異なる重みとバイアスを持つ線形層と活性化関数が次のように適用される．\n",
    "\n",
    "$$\n",
    "\\begin{align}\n",
    "\\boldsymbol{h}_2 &= \\boldsymbol{a}_1 \\boldsymbol{W}_2^\\top + \\boldsymbol{b}_2 \\\\\n",
    "\\boldsymbol{a}_2 &= f(\\boldsymbol{h}_2)\n",
    "\\end{align}\n",
    "$$\n",
    "\n",
    "ここでもやはり，重み行列とバイアスの次元に注意されたい．重み行列 $\\boldsymbol{W}_1$ は $D_{hidden} \\times D_{hidden}$ 次元であり，バイアス $\\boldsymbol{b}_2$ は  $D_{hidden}$ 次元である．ニューラルネットワーク実装時のエラーの大半はこの行列計算時の次元の不一致によるものなので注意されたい．\n",
    "\n",
    "隠れ層ではこの計算を繰り返す．したがって，第 $l$ 層の計算は，\n",
    "\n",
    "$$\n",
    "\\begin{align}\n",
    "\\boldsymbol{h}_l &= \\boldsymbol{a}_{l-1} \\boldsymbol{W}_l^\\top + \\boldsymbol{b}_l \\\\\n",
    "\\boldsymbol{a}_l &= f(\\boldsymbol{h}_l)\n",
    "\\end{align}\n",
    "$$\n",
    "\n",
    "と書ける．\n",
    "\n",
    "そして，第$L$層目である出力層では，タスクに応じて適切に設定された出力次元 $D_{out}$ を持つ重みとバイアス，そして活性化関数 $f$ によって\n",
    "\n",
    "$$\n",
    "\\begin{align}\n",
    "\\boldsymbol{h}_{L} &= \\boldsymbol{a}_{L-1} \\boldsymbol{W}_{L}^\\top + \\boldsymbol{b}_{L} \\\\\n",
    "\\boldsymbol{a}_{L} &= f(\\boldsymbol{h}_{L})\n",
    "\\end{align}\n",
    "$$\n",
    "\n",
    "と計算される．このとき，活性化関数が適用される直前のベクトル $\\boldsymbol{h}_{L}$ をロジットとよび，最終的な結果 $\\boldsymbol{a}_{L}$ を出力値または予測値という．\n",
    "\n",
    "そして，ここで変換に利用されるすべてのパラメータ $\\boldsymbol{\\theta} = \\{\\boldsymbol{W}_1, \\boldsymbol{b}_1, ..., \\boldsymbol{W}_L, \\boldsymbol{b}_L \\}$ は損失関数の勾配に基づいた誤差逆伝播法によって反復的に更新され，損失関数の誤差を最小とするように最適化される．"
   ]
  },
  {
   "cell_type": "markdown",
   "metadata": {},
   "source": [
    "では，$L=3$ の層数を持ち，隠れ層の活性化関数がReLU関数で，出力層の活性化関数はSigmoid関数の場合のMLPをPyTorchで実装する．\n",
    "\n",
    "PyTorchでは `torch.nn.Module` でニューラルネットワークの構造をクラスとして次のように定義することが一般的である．その他の実装としては，`torch.nn.Sequential` を使うこともできる．\n",
    "\n",
    "`torch.nn.Module` では，基本的に次のように実装する．\n",
    "\n",
    "```\n",
    "class モデル名(nn.Module):\n",
    "    def __init__(self):\n",
    "        super().__init__()\n",
    "        層の定義\n",
    "\n",
    "    def forward(self, x):\n",
    "        順伝播の実装\n",
    "```\n",
    "\n",
    "順伝播 `forward` を `__init__` で定義した層を使って定義する．逆伝播はPyTorchの自動微分機能から実行できる．\n",
    "\n",
    "以下に，前述したMLPを実装する．\n"
   ]
  },
  {
   "cell_type": "code",
   "execution_count": 2,
   "metadata": {},
   "outputs": [],
   "source": [
    "import torch\n",
    "import torch.nn as nn\n",
    "\n",
    "class MLP(nn.Module):\n",
    "    def __init__(self, input_dim, hidden_dim, output_dim):\n",
    "        super(MLP, self).__init__()\n",
    "        self.layer_in = nn.Linear(input_dim, hidden_dim)\n",
    "        self.layer_hidden = nn.Linear(hidden_dim, hidden_dim)\n",
    "        self.layer_out = nn.Linear(hidden_dim, output_dim)\n",
    "        self.act = nn.ReLU()\n",
    "        self.act_out = nn.Sigmoid()\n",
    "\n",
    "    def forward(self, x):\n",
    "        h = x\n",
    "        h = self.layer_in(h)\n",
    "        h = self.act(h)\n",
    "        h = self.layer_hidden(h)\n",
    "        h = self.act(h)\n",
    "        h = self.layer_out(h)\n",
    "        h = self.act_out(h)\n",
    "        return h"
   ]
  },
  {
   "cell_type": "markdown",
   "metadata": {},
   "source": [
    "これを `input_dim=3`，`hidden_dim=32`，`output_dim=1` としてインスタンス化する．"
   ]
  },
  {
   "cell_type": "code",
   "execution_count": 3,
   "metadata": {},
   "outputs": [],
   "source": [
    "input_dim = 3\n",
    "hidden_dim = 32\n",
    "output_dim = 1\n",
    "model = MLP(input_dim=input_dim, hidden_dim=hidden_dim, output_dim=output_dim)"
   ]
  },
  {
   "cell_type": "markdown",
   "metadata": {},
   "source": [
    "モデルの構造は `print` 等で確認できる．"
   ]
  },
  {
   "cell_type": "code",
   "execution_count": null,
   "metadata": {},
   "outputs": [],
   "source": [
    "print(model)"
   ]
  },
  {
   "cell_type": "markdown",
   "metadata": {},
   "source": [
    "出力結果からもわかるように定義された層と活性化関数は確認できるが，伝播の流れは得られないことに注意されたい．"
   ]
  },
  {
   "cell_type": "markdown",
   "metadata": {},
   "source": [
    "MLPが正しく構築できているかバグチェックを行うために順伝播をさせる．そのためのランダムの値を持つ入力データを以下で作成する．"
   ]
  },
  {
   "cell_type": "code",
   "execution_count": null,
   "metadata": {},
   "outputs": [],
   "source": [
    "batch_size = 3\n",
    "input_size = (batch_size, input_dim)\n",
    "dummy_input = torch.randn(*input_size)\n",
    "\n",
    "print('dummy_input.shape:', dummy_input.shape)\n",
    "print('dummy_input = ')\n",
    "print(dummy_input)"
   ]
  },
  {
   "cell_type": "markdown",
   "metadata": {},
   "source": [
    "順伝播は次のように行える．意図した出力が得られているか確認する．"
   ]
  },
  {
   "cell_type": "code",
   "execution_count": null,
   "metadata": {},
   "outputs": [],
   "source": [
    "output = model(dummy_input)\n",
    "\n",
    "print('output.shape: ', output.shape)\n",
    "print('output = ')\n",
    "print(output)"
   ]
  },
  {
   "cell_type": "markdown",
   "metadata": {},
   "source": [
    "このときエラーが発生する場合は `forward` 関数内の処理か線形層の入出力の次元を間違えていることが多い．"
   ]
  },
  {
   "cell_type": "markdown",
   "metadata": {},
   "source": [
    "MLPのパラメータは `model.named_parameters()` を使って次のように取得できる．"
   ]
  },
  {
   "cell_type": "code",
   "execution_count": null,
   "metadata": {},
   "outputs": [],
   "source": [
    "for name, param in model.named_parameters():\n",
    "    print(f'{name} shape: {param.shape}')"
   ]
  },
  {
   "cell_type": "markdown",
   "metadata": {},
   "source": [
    "モデルの層数が多いとGPUのメモリ上にモデルのパラメータを格納できないことがある．そのため，正しく実装できたか，そしてそのニューラルネットワークがGPU上のメモリ量を超えていないかをチェックすることも重要である．\n",
    "\n",
    "そこで，上記のコードをベースにMLPの総パラメータ数を計算する．"
   ]
  },
  {
   "cell_type": "code",
   "execution_count": null,
   "metadata": {},
   "outputs": [],
   "source": [
    "total_params = 0\n",
    "for name, param in model.named_parameters():\n",
    "    print(f'{name} shape: {param.shape}')\n",
    "    total_params += param.numel()\n",
    "\n",
    "print(f'Total number of trainable parameters: {total_params}')"
   ]
  },
  {
   "cell_type": "markdown",
   "metadata": {},
   "source": [
    "メモリに乗り切らない場合は，モデル並列等を使ってモデルを分割して学習させることもできるが，基本的に，後述するバッチサイズなどを調整してメモリ数を減らすことが多い．\n",
    "\n",
    "しかしながら，特に，線形層は多くのパラメータを必要とするのでこのあたりの次元を見直しても良い．"
   ]
  },
  {
   "cell_type": "markdown",
   "metadata": {},
   "source": []
  }
 ],
 "metadata": {
  "kernelspec": {
   "display_name": "ml-py39",
   "language": "python",
   "name": "python3"
  },
  "language_info": {
   "codemirror_mode": {
    "name": "ipython",
    "version": 3
   },
   "file_extension": ".py",
   "mimetype": "text/x-python",
   "name": "python",
   "nbconvert_exporter": "python",
   "pygments_lexer": "ipython3",
   "version": "3.9.19"
  }
 },
 "nbformat": 4,
 "nbformat_minor": 2
}
