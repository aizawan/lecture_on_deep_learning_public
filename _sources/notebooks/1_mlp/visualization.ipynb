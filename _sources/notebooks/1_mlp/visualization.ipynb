{
 "cells": [
  {
   "cell_type": "markdown",
   "metadata": {},
   "source": [
    "# 可視化\n",
    "\n",
    "このノートブックでは，学習と評価が終わったMLPと学習結果を再度読み込み，学習曲線の可視化，識別境界の可視化，重みの分布の可視化，勾配の可視化を行い，学習されたモデルを分析する．"
   ]
  },
  {
   "cell_type": "markdown",
   "metadata": {},
   "source": [
    "## 学習曲線の可視化\n",
    "\n",
    "損失と精度の推移を示す学習曲線から過学習等の学習の状況が確認できるため，ニューラルネットワークの学習時は必ず可視化しよう．まずは保存した`.txt`から損失と精度を読み出す．numpyを用いた場合，`loadtxt`関数を利用すると良い．"
   ]
  },
  {
   "cell_type": "code",
   "execution_count": 1,
   "metadata": {},
   "outputs": [],
   "source": [
    "import numpy as np\n",
    "train_loss = np.loadtxt('output/train_loss.txt')\n",
    "train_acc = np.loadtxt('output/train_acc.txt')\n",
    "\n",
    "valid_loss = np.loadtxt('output/valid_loss.txt')\n",
    "valid_acc = np.loadtxt('output/valid_acc.txt')"
   ]
  },
  {
   "cell_type": "markdown",
   "metadata": {},
   "source": [
    "読み出せたので，これをmatplotlibを使って可視化する．"
   ]
  },
  {
   "cell_type": "code",
   "execution_count": null,
   "metadata": {},
   "outputs": [],
   "source": [
    "import matplotlib.pyplot as plt\n",
    "\n",
    "plt.plot(train_loss, label='train_loss')\n",
    "plt.plot(valid_loss, label='valid_loss')\n",
    "plt.xlabel('Epoch')\n",
    "plt.ylabel('Loss')\n",
    "plt.legend()\n",
    "plt.grid(True)\n",
    "plt.show();"
   ]
  },
  {
   "cell_type": "code",
   "execution_count": null,
   "metadata": {},
   "outputs": [],
   "source": [
    "plt.plot(train_acc, label='train_acc')\n",
    "plt.plot(valid_acc, label='valid_acc')\n",
    "plt.xlabel('Epoch')\n",
    "plt.ylabel('Accuracy')\n",
    "plt.legend()\n",
    "plt.grid(True)\n",
    "plt.show();"
   ]
  },
  {
   "cell_type": "markdown",
   "metadata": {},
   "source": [
    "タスクが簡単だったこともあり，最終的に学習・検証データ共に100%の精度で分類できていることがわかった．タスクやデータセットによっては学習データの精度は1.0に近づくが，検証データの精度が徐々に低下していく減少が見られる．その場合は過学習が起こっていると分析でき，適切な正則化やハイパーパラメータの調整が必要となる．"
   ]
  },
  {
   "cell_type": "markdown",
   "metadata": {},
   "source": [
    "## 識別境界の可視化\n",
    "\n",
    "識別境界を可視化するために，MLPを読み出そう．そのために，まずは保存したモデルと同じ構造を持つMLPのインスタンスを作成する．"
   ]
  },
  {
   "cell_type": "code",
   "execution_count": 4,
   "metadata": {},
   "outputs": [],
   "source": [
    "import torch.nn as nn\n",
    "\n",
    "class MLP(nn.Module):\n",
    "    def __init__(self, input_dim, hidden_dim, output_dim):\n",
    "        super(MLP, self).__init__()\n",
    "        self.layer_in = nn.Linear(input_dim, hidden_dim)\n",
    "        self.layer_hidden = nn.Linear(hidden_dim, hidden_dim)\n",
    "        self.layer_out = nn.Linear(hidden_dim, output_dim)\n",
    "        self.act = nn.ReLU()\n",
    "        self.act_out = nn.Identity()\n",
    "\n",
    "    def forward(self, x):\n",
    "        h = x\n",
    "        h = self.layer_in(h)\n",
    "        h = self.act(h)\n",
    "        h = self.layer_hidden(h)\n",
    "        h = self.act(h)\n",
    "        h = self.layer_out(h)\n",
    "        h = self.act_out(h)\n",
    "        return h\n",
    "    \n",
    "model = MLP(input_dim=2, hidden_dim=32, output_dim=2)"
   ]
  },
  {
   "cell_type": "markdown",
   "metadata": {},
   "source": [
    "`load_state_dict`でモデルインスタンスに重みを適用する．"
   ]
  },
  {
   "cell_type": "code",
   "execution_count": null,
   "metadata": {},
   "outputs": [],
   "source": [
    "import torch\n",
    "\n",
    "save_path = 'output/model.pth'\n",
    "model.load_state_dict(torch.load(save_path))"
   ]
  },
  {
   "cell_type": "markdown",
   "metadata": {},
   "source": [
    "Jupyter Notebookは異なるが同一の`random_state`を指定することで再度可視化のためのテストデータを作成する．"
   ]
  },
  {
   "cell_type": "code",
   "execution_count": 6,
   "metadata": {},
   "outputs": [],
   "source": [
    "from sklearn.datasets import make_moons\n",
    "from sklearn.model_selection import train_test_split\n",
    "\n",
    "X, y = make_moons(n_samples=500, noise=0.1, random_state=1234)\n",
    "\n",
    "X_train, X_temp, y_train, y_temp = train_test_split(\n",
    "    X, y, test_size=0.4, random_state=1234)\n",
    "X_val, X_test, y_val, y_test = train_test_split(\n",
    "    X_temp, y_temp, test_size=0.5, random_state=1234)"
   ]
  },
  {
   "cell_type": "markdown",
   "metadata": {},
   "source": [
    "作成したデータセットと予測結果を元に識別境界を可視化する．"
   ]
  },
  {
   "cell_type": "code",
   "execution_count": null,
   "metadata": {},
   "outputs": [],
   "source": [
    "h = 0.02\n",
    "x_min, x_max = X_train[:, 0].min() - 0.5, X_train[:, 0].max() + 0.5\n",
    "y_min, y_max = X_train[:, 1].min() - 0.5, X_train[:, 1].max() + 0.5\n",
    "xx, yy = np.meshgrid(np.arange(x_min, x_max, h), np.arange(y_min, y_max, h))\n",
    "grid = np.c_[xx.ravel(), yy.ravel()]\n",
    "grid = torch.tensor(grid, dtype=torch.float32)\n",
    "\n",
    "model.eval()\n",
    "with torch.no_grad():\n",
    "    pred = model(grid).argmax(dim=1).numpy()\n",
    "    pred = pred.reshape(xx.shape)\n",
    "\n",
    "plt.contourf(xx, yy, pred, alpha=0.5)\n",
    "plt.scatter(X_train[:, 0], X_train[:, 1], c=y_train, alpha=0.6, edgecolors=\"k\", s=15)\n",
    "plt.scatter(X_test[:, 0], X_test[:, 1], c=y_test, alpha=1.0, edgecolors=\"k\", s=15)\n",
    "plt.colorbar(label=\"Class\")\n",
    "plt.xlabel(\"X1\")\n",
    "plt.ylabel(\"X2\")\n",
    "plt.title(\"Decision Boundary\")\n",
    "plt.show()"
   ]
  },
  {
   "cell_type": "markdown",
   "metadata": {},
   "source": [
    "## 特徴ベクトルの可視化\n",
    "\n",
    "入力が二次元の場合は各入力変数の予測の影響度を前述の可視化から解釈できる．しかしながら，入力が高次元になるとそのような分析が難しくなる．画像分類を例にすると，入力画像の解像度が $100 \\times 100$ である場合，入力次元は10,000次元となり，可視化が困難となる．\n",
    "\n",
    "そのようなケースでは，モデル内部の特徴ベクトルの分布の可視化からの分析がよく用いられる．では，softmax関数が適用される前のモデルの出力値（ロジット）を取得してみよう．\n",
    "\n",
    "まずは評価データセットを`torch.tensor`形式の入力を作成する．"
   ]
  },
  {
   "cell_type": "code",
   "execution_count": 8,
   "metadata": {},
   "outputs": [],
   "source": [
    "x = torch.from_numpy(X_test).to(torch.float32)"
   ]
  },
  {
   "cell_type": "markdown",
   "metadata": {},
   "source": [
    "これを推論モードで伝播して，予測結果を得る．"
   ]
  },
  {
   "cell_type": "code",
   "execution_count": 9,
   "metadata": {},
   "outputs": [],
   "source": [
    "model.eval()\n",
    "logits = model(x)"
   ]
  },
  {
   "cell_type": "markdown",
   "metadata": {},
   "source": [
    "行がサンプル数，列がクラス数（今回は2）の行列が得られるはずだ．これを散布図で可視化してみよう．"
   ]
  },
  {
   "cell_type": "code",
   "execution_count": null,
   "metadata": {},
   "outputs": [],
   "source": [
    "import matplotlib.pyplot as plt\n",
    "logits = logits.detach().numpy()\n",
    "plt.scatter(logits[:, 0], logits[:, 1], c=y_test, s=10)\n",
    "plt.title(\"Logits of Moons Data\")\n",
    "plt.show();"
   ]
  },
  {
   "cell_type": "markdown",
   "metadata": {},
   "source": [
    "学習と評価のノートブックで同様の可視化を行なっているが，各データの分布が異なっていることがわかる．またクラスが分離された分布が学習できていることも確認できる．今回は2次元のため，このような可視化ができた．ロジットが多次元，つまり多クラス分類の場合はこのような可視化ができないことに注意されたい．その場合はt-SNEやPCAなどの次元削減手法を使って特徴空間の分離度合いを確認すると良い．"
   ]
  },
  {
   "cell_type": "markdown",
   "metadata": {},
   "source": [
    "## 重みの可視化\n",
    "\n",
    "ニューラルネットワークには多数のパラメータが含まれているが，その分布や統計量をチェックすることで，学習状況を分析できる場合がある．ここでは，パラメータへのアクセス方法の復習として，線形層における重みパラメータの分布をヒストグラムで可視化する．\n",
    "\n",
    "重みは次のように取得できる．"
   ]
  },
  {
   "cell_type": "code",
   "execution_count": null,
   "metadata": {},
   "outputs": [],
   "source": [
    "layer_hidden_weights = model.layer_hidden.weight.data.numpy()\n",
    "print(layer_hidden_weights.shape)\n",
    "print(layer_hidden_weights)"
   ]
  },
  {
   "cell_type": "markdown",
   "metadata": {},
   "source": [
    "形状を確認してもわかる通り，行列形式になっているので，これを`flatten()`を使ってベクトル形式に変換する．"
   ]
  },
  {
   "cell_type": "code",
   "execution_count": null,
   "metadata": {},
   "outputs": [],
   "source": [
    "layer_hidden_weights = layer_hidden_weights.flatten()\n",
    "print(layer_hidden_weights.shape)"
   ]
  },
  {
   "cell_type": "markdown",
   "metadata": {},
   "source": [
    "これをmatplotlibで可視化する．"
   ]
  },
  {
   "cell_type": "code",
   "execution_count": null,
   "metadata": {},
   "outputs": [],
   "source": [
    "plt.hist(layer_hidden_weights, bins=20, edgecolor='k')\n",
    "plt.title('Weight Distribution of layer_hidden')\n",
    "plt.xlabel('Weight Values')\n",
    "plt.ylabel('Frequency')\n",
    "plt.show();"
   ]
  },
  {
   "cell_type": "markdown",
   "metadata": {},
   "source": [
    "結果からもわかるように，0に近い重みが多く存在していることがわかる．過学習が起きている場合は，重みの値が大きくなるケースが多く，その傾向はこのような可視化から確認できる．"
   ]
  },
  {
   "cell_type": "markdown",
   "metadata": {},
   "source": [
    "## 勾配の可視化\n",
    "\n",
    "同様の手順で勾配を可視化しよう．損失計算をして，`backward`をすることで勾配を計算できる．"
   ]
  },
  {
   "cell_type": "code",
   "execution_count": 14,
   "metadata": {},
   "outputs": [],
   "source": [
    "x = torch.from_numpy(X_test).to(torch.float32)\n",
    "y = torch.from_numpy(y_test).to(torch.long)\n",
    "\n",
    "loss_function = nn.CrossEntropyLoss()\n",
    "\n",
    "output = model(x)\n",
    "loss = loss_function(output, y)\n",
    "loss.backward()\n"
   ]
  },
  {
   "cell_type": "markdown",
   "metadata": {},
   "source": [
    "計算された勾配は次のようにして取得できる．"
   ]
  },
  {
   "cell_type": "code",
   "execution_count": null,
   "metadata": {},
   "outputs": [],
   "source": [
    "layer_hidden_grads = model.layer_hidden.weight.grad.numpy().flatten()\n",
    "layer_hidden_grads"
   ]
  },
  {
   "cell_type": "markdown",
   "metadata": {},
   "source": [
    "重みと同様にヒストグラムとして可視化する．"
   ]
  },
  {
   "cell_type": "code",
   "execution_count": null,
   "metadata": {},
   "outputs": [],
   "source": [
    "plt.hist(layer_hidden_grads, bins=20, edgecolor='k')\n",
    "plt.title('Gradient Distribution of layer_hidden')\n",
    "plt.xlabel('Gradient Values')\n",
    "plt.ylabel('Frequency')\n",
    "plt.show();"
   ]
  },
  {
   "cell_type": "markdown",
   "metadata": {},
   "source": [
    "学習が完了していることは損失が変化しないので，勾配の分布が0に偏っている．学習に失敗する場合は，勾配の値が全て0もしくは，極端に大きな値を取っていることが多く，結果として勾配消失問題・勾配爆発問題が生ずる．また発展的な内容であるが，勾配のノルムが小さいほど，良い汎化が達成できていることを示す論文もあり，学習途中の勾配の推移を可視化することも有効である．"
   ]
  },
  {
   "cell_type": "code",
   "execution_count": null,
   "metadata": {},
   "outputs": [],
   "source": []
  }
 ],
 "metadata": {
  "kernelspec": {
   "display_name": "ml-py39",
   "language": "python",
   "name": "python3"
  },
  "language_info": {
   "codemirror_mode": {
    "name": "ipython",
    "version": 3
   },
   "file_extension": ".py",
   "mimetype": "text/x-python",
   "name": "python",
   "nbconvert_exporter": "python",
   "pygments_lexer": "ipython3",
   "version": "3.9.19"
  }
 },
 "nbformat": 4,
 "nbformat_minor": 2
}
