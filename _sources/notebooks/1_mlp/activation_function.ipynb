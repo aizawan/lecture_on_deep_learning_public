{
 "cells": [
  {
   "cell_type": "markdown",
   "metadata": {},
   "source": [
    "# 活性化関数\n",
    "\n",
    "**活性化関数（activate function）** は線形層などの出力\n",
    "\n",
    "$$\n",
    "\\boldsymbol{h} = \\boldsymbol{x} \\boldsymbol{W}^\\top + \\boldsymbol{b}\n",
    "$$\n",
    "\n",
    "に対して，次のような変換を行う関数である．\n",
    "\n",
    "$$\n",
    "\\boldsymbol{a} = f(\\boldsymbol{h})\n",
    "$$\n",
    "\n",
    "一般的に，活性化関数は非線形かつ微分可能である必要があり，ニューラルネットワークの特性やタスクに応じて適切に変更する必要がある．ここでは，代表的な活性化関数であるSigmoid関数，Tanh関数，ReLU関数，Softmax関数について紹介する．"
   ]
  },
  {
   "cell_type": "markdown",
   "metadata": {},
   "source": [
    "## Sigmoid関数\n",
    "\n",
    "**Sigmoid関数** は実数の入力 $x \\in \\mathbb{R}$ を次のように変換する．\n",
    "\n",
    "$$\n",
    "\\sigma(x)=\\frac{1}{1+e^{-x}}\n",
    "$$\n",
    "\n",
    "この関数は出力を常に $0$ から $1$ の範囲に制限でき，出力を確率として表現するのに適している．またシグモイド関数は微分可能であることから，後述する勾配ベースの最適化やロジスティック回帰やニューラルネットワーク等との相性が良い．そのシグモイド関数の微分 $\\sigma'(x)$ は次のように与えられる．\n",
    "\n",
    "$$\n",
    "\\sigma'(x)=\\sigma(x)(1-\\sigma(x))\n",
    "$$"
   ]
  },
  {
   "cell_type": "markdown",
   "metadata": {},
   "source": [
    "これをPyTorchで可視化する．"
   ]
  },
  {
   "cell_type": "code",
   "execution_count": null,
   "metadata": {},
   "outputs": [],
   "source": [
    "import torch\n",
    "import matplotlib.pyplot as plt\n",
    "\n",
    "def sigmoid(x):\n",
    "    return 1. / (1. + torch.exp(-x))\n",
    "\n",
    "def sigmoid_derivative(x):\n",
    "    return sigmoid(x) * (1. - sigmoid(x))\n",
    "\n",
    "x = torch.linspace(-10, 10, 100)\n",
    "y = sigmoid(x)\n",
    "d = sigmoid_derivative(x)\n",
    "\n",
    "plt.figure(figsize=(8, 5))\n",
    "plt.plot(x.numpy(), y.numpy(), label=r'$\\sigma(x)=\\frac{1}{1+e^{-x}}$')\n",
    "plt.plot(x.numpy(), d.numpy(), label=r'$\\sigma^{\\prime}(x)=\\sigma(x)(1-\\sigma(x))$')\n",
    "plt.title(r'Sigmoid function and its derivative')\n",
    "plt.xlabel(r'$x$')\n",
    "plt.ylabel('Function value')\n",
    "plt.legend()\n",
    "plt.grid(True)\n",
    "plt.show()"
   ]
  },
  {
   "cell_type": "markdown",
   "metadata": {},
   "source": [
    "上記の実装をすることなくPyTorchでは[Sigmoid関数](https://pytorch.org/docs/stable/generated/torch.nn.Sigmoid.html)がサポートされている．"
   ]
  },
  {
   "cell_type": "code",
   "execution_count": null,
   "metadata": {},
   "outputs": [],
   "source": [
    "import torch.nn as nn\n",
    "\n",
    "x = torch.randn(2)\n",
    "act = nn.Sigmoid()\n",
    "y = act(x)\n",
    "\n",
    "print('x = ')\n",
    "print(x)\n",
    "\n",
    "print('y = ')\n",
    "print(y)"
   ]
  },
  {
   "cell_type": "markdown",
   "metadata": {},
   "source": [
    "## Tanh関数\n",
    "\n",
    "**Tanh関数（双曲線正接関数）** は，入力 $x \\in \\mathbb{R}$ に対して，次のように計算される．\n",
    "\n",
    "$$\n",
    "\\tanh(x) = \\frac{e^x - e^{-x}}{e^x + e^{-x}}\n",
    "$$\n",
    "\n",
    "Tanh関数の出力は常に $-1$ から $1$ の範囲に収まり，Sigmoid関数とは異なり出力が正負の両方を取りうる．\n",
    "\n",
    "また，Tanh関数も微分可能であり，その微分 $\\tanh'(x)$ は以下のように表される．\n",
    "\n",
    "$$\n",
    "\\tanh'(x) = 1 - \\tanh^2(x)\n",
    "$$\n",
    "\n",
    "この性質により，Tanh関数も勾配ベースの最適化やニューラルネットワークの活性化関数に利用される．"
   ]
  },
  {
   "cell_type": "markdown",
   "metadata": {},
   "source": [
    "これをPyTorchで可視化する．Pytorchでは，シンプルに[`torch.tanh`](https://pytorch.org/docs/stable/generated/torch.tanh.html)で計算できる．"
   ]
  },
  {
   "cell_type": "code",
   "execution_count": null,
   "metadata": {},
   "outputs": [],
   "source": [
    "import torch\n",
    "import matplotlib.pyplot as plt\n",
    "\n",
    "def tanh(x):\n",
    "    return torch.tanh(x)\n",
    "\n",
    "def tanh_derivative(x):\n",
    "    return 1. - tanh(x)**2\n",
    "\n",
    "x = torch.linspace(-10, 10, 100)\n",
    "y = tanh(x)\n",
    "d = tanh_derivative(x)\n",
    "\n",
    "plt.figure(figsize=(8, 5))\n",
    "plt.plot(x.numpy(), y.numpy(), label=r'$\\tanh(x)=\\frac{e^x - e^{-x}}{e^x + e^{-x}}$')\n",
    "plt.plot(x.numpy(), d.numpy(), label=r'$\\tanh^{\\prime}(x)=1-\\tanh^2(x)$')\n",
    "plt.title(r'Tanh function and its derivative')\n",
    "plt.xlabel(r'$x$')\n",
    "plt.ylabel('Function value')\n",
    "plt.legend()\n",
    "plt.grid(True)\n",
    "plt.show()"
   ]
  },
  {
   "cell_type": "markdown",
   "metadata": {},
   "source": [
    "## ReLU関数\n",
    "\n",
    "**ReLU関数（Rectified Linear Unit, 整流線形関数）** は次のように定義される．\n",
    "\n",
    "$$\n",
    "\\text{ReLU}(x) = \\max(0, x)\n",
    "$$\n",
    "\n",
    "ReLU関数は，入力が正の場合は値をそのまま出力し，負の場合は0を出力する．\n",
    "\n",
    "ReLU関数の微分 $\\text{ReLU}’(x)$ は以下のように表される．\n",
    "\n",
    "$$\n",
    "\\text{ReLU}’(x) =\n",
    "\\begin{cases}\n",
    "1 & (x > 0) \\\\\n",
    "0 & (x \\leq 0)\n",
    "\\end{cases}\n",
    "$$\n",
    "\n",
    "つまり，値を持つときは誤差逆伝播によって流れてくる勾配をそのまま次の層に伝播できる性質を持っており，Sigmoid関数やTanh関数に比べて，ニューラルネットワークを深くしても勾配消失問題が軽減されることが知られている．"
   ]
  },
  {
   "cell_type": "markdown",
   "metadata": {},
   "source": [
    "これをPyTorchで可視化する．Pytorchでは[`torch.nn.ReLU`](https://pytorch.org/docs/stable/generated/torch.nn.ReLU.html#torch.nn.ReLU)でも計算できる．"
   ]
  },
  {
   "cell_type": "code",
   "execution_count": null,
   "metadata": {},
   "outputs": [],
   "source": [
    "import torch\n",
    "import matplotlib.pyplot as plt\n",
    "\n",
    "def relu(x):\n",
    "    return torch.maximum(torch.tensor(0.0), x)\n",
    "\n",
    "def relu_derivative(x):\n",
    "    return (x > 0).float()\n",
    "\n",
    "x = torch.linspace(-1.5, 1.5, 100)\n",
    "y = relu(x)\n",
    "d = relu_derivative(x)\n",
    "\n",
    "plt.figure(figsize=(8, 5))\n",
    "plt.plot(x.numpy(), y.numpy(), label=r'ReLU$(x) = \\max(0, x)$')\n",
    "plt.plot(x.numpy(), d.numpy(), label=r'ReLU$^{\\prime}(x)$')\n",
    "plt.title(r'ReLU function and its derivative')\n",
    "plt.xlabel(r'$x$')\n",
    "plt.ylabel('Function value')\n",
    "plt.legend()\n",
    "plt.grid(True)\n",
    "plt.show()"
   ]
  },
  {
   "cell_type": "markdown",
   "metadata": {},
   "source": [
    "## Softmax関数\n",
    "\n",
    "**Softmax関数** は多クラス分類問題において，モデルの出力を確率として解釈するために使用される活性化関数である．$K$ クラスの分類問題において，モデルの出力として得られる各クラスに対応する **ロジット（logit）** $\\boldsymbol{z} = [z_1, z_2, \\dots, z_K]$ の各要素を確率分布に変換することができる．\n",
    "\n",
    "Softmax関数は入力 $\\boldsymbol{z} \\in \\mathbb{R}^K$ に対して，次のように定義される：\n",
    "\n",
    "$$\n",
    "\\text{softmax}(\\boldsymbol{z})_i = \\frac{\\exp(z_i)}{\\sum_{j=1}^{K} \\exp(z_j)} \\quad \\text{for} , i = 1, 2, \\dots, K\n",
    "$$\n",
    "\n",
    "ここで，$\\exp(z_i)$ はロジットの指数関数を表し，各クラス $i$ の値を，すべてのクラスの指数の和で正規化することによって，出力が確率分布となる．つまり，\n",
    "\n",
    "$$\n",
    "\\sum_{i=1}^K \\text{softmax}(\\boldsymbol{z})_i = 1\n",
    "$$\n",
    "\n",
    "という性質を満たす．\n",
    "\n",
    "出力 $y_i = \\text{softmax}(z)_i$ に対して，その導関数 $\\frac{\\partial y_i}{\\partial z_j}$ は次のように表せる．\n",
    "\n",
    "$$\n",
    "\\frac{\\partial y_i}{\\partial z_j} =\n",
    "\\begin{cases}\n",
    "y_i(1 - y_i) & \\text{if } i = j \\\\\n",
    "-y_i y_j & \\text{if } i \\neq j\n",
    "\\end{cases}\n",
    "$$\n"
   ]
  },
  {
   "cell_type": "markdown",
   "metadata": {},
   "source": [
    "PyTorchの[`torch.nn.Softmax`](https://pytorch.org/docs/stable/generated/torch.nn.Softmax.html#torch.nn.Softmax)を使ってSoftmaxの出力と総和が1となることを確認する．"
   ]
  },
  {
   "cell_type": "code",
   "execution_count": null,
   "metadata": {},
   "outputs": [],
   "source": [
    "logits = torch.tensor([0.01, 0.5, 3.0, 1.0, 0.1])\n",
    "\n",
    "act = nn.Softmax()\n",
    "prob = act(logits)\n",
    "\n",
    "print(\"Softmax output:\", prob)\n",
    "print(\"Sum of softmax output:\", torch.sum(prob))\n",
    "\n",
    "classes = [f'Class {i}' for i in range(1, len(logits) + 1)]\n",
    "\n",
    "plt.figure(figsize=(8, 5))\n",
    "plt.bar(classes,prob.numpy(), color='skyblue')\n",
    "plt.title('Softmax Output Distribution')\n",
    "plt.xlabel('Classes')\n",
    "plt.ylabel('Probability')\n",
    "plt.ylim(0, 1)\n",
    "plt.grid(True, axis='y')\n",
    "plt.show()"
   ]
  },
  {
   "cell_type": "markdown",
   "metadata": {},
   "source": [
    "## 補足\n",
    "多くの活性化関数は `torch.nn` と `torch.nn.functional` で定義されている．どちらを使っても良いが，ニューラルネット内部で活性化関数を明示的に定義したい場合などでは，インスタンス化を行う `torch.nn` を使うと良い．"
   ]
  }
 ],
 "metadata": {
  "kernelspec": {
   "display_name": "ml-py39",
   "language": "python",
   "name": "python3"
  },
  "language_info": {
   "codemirror_mode": {
    "name": "ipython",
    "version": 3
   },
   "file_extension": ".py",
   "mimetype": "text/x-python",
   "name": "python",
   "nbconvert_exporter": "python",
   "pygments_lexer": "ipython3",
   "version": "3.9.19"
  }
 },
 "nbformat": 4,
 "nbformat_minor": 2
}
