{
 "cells": [
  {
   "cell_type": "markdown",
   "metadata": {},
   "source": [
    "# Positional Embedding\n",
    "\n",
    "このノートブックでは，パッチ埋め込みで画像をテンソル化したことからもわかるように，このパッチが画像中のどこに位置しているか？という画像中の位置に関する情報がパッチ埋め込み化により欠落する．そこで，パッチに画像中の位置情報を付加するのが，位置埋め込み（Positional Embedding, PE）である．\n",
    "\n",
    "\n",
    "ViTで用いられるPEは学習可能なパラメータとして設定される埋め込み表現であり，PEをパッチに加算することで位置情報を付加する．まずは，パッチ埋め込み（ダミーデータ）を作成する．パッチ埋め込みは（ミニバッチサイズ，パッチ数，埋め込み次元）のテンソルであった．"
   ]
  },
  {
   "cell_type": "code",
   "execution_count": null,
   "metadata": {},
   "outputs": [],
   "source": [
    "import torch\n",
    "import torch.nn as nn\n",
    "\n",
    "class PatchEmbed(nn.Module):\n",
    "    def __init__(self, img_size=224, patch_size=16, in_channels=3, embed_dim=384):\n",
    "        super().__init__()\n",
    "        self.num_patches = (img_size // patch_size) * (img_size // patch_size)\n",
    "        self.proj = nn.Conv2d(in_channels, embed_dim, kernel_size=patch_size, stride=patch_size)\n",
    "\n",
    "    def forward(self, x):\n",
    "        x = self.proj(x).flatten(2).transpose(1, 2)\n",
    "        return x\n",
    "\n",
    "\n",
    "patch_embed = PatchEmbed()\n",
    "dummy_img = torch.randn((1, 3, 224, 224))\n",
    "x = patch_embed(dummy_img)\n",
    "\n",
    "print('x.shape:', x.shape)"
   ]
  },
  {
   "cell_type": "markdown",
   "metadata": {},
   "source": [
    "そして，パッチ埋め込みに対して，クラストークンが結合される．"
   ]
  },
  {
   "cell_type": "code",
   "execution_count": null,
   "metadata": {},
   "outputs": [],
   "source": [
    "embed_dim = x.shape[2]\n",
    "cls_token = nn.Parameter(torch.zeros(1, 1, embed_dim))\n",
    "\n",
    "bs = x.shape[0]\n",
    "cls_tokens = cls_token.expand(bs, -1, -1)\n",
    "x = torch.cat((cls_tokens, x), dim=1)\n",
    "\n",
    "print('x.shape:', x.shape)"
   ]
  },
  {
   "cell_type": "markdown",
   "metadata": {},
   "source": [
    "PEは学習可能なパラメータなので，`nn.Module` のパラメータであることを示す `nn.Parameter` を使って次のように実装する．クラストークンにも位置埋め込みは加算されるのでパッチ数には注意が必要である．"
   ]
  },
  {
   "cell_type": "code",
   "execution_count": null,
   "metadata": {},
   "outputs": [],
   "source": [
    "import torch\n",
    "import torch.nn as nn\n",
    "\n",
    "num_patches = x.shape[1]\n",
    "embed_dim = x.shape[2]\n",
    "\n",
    "pos_embed = nn.Parameter(torch.zeros(1, num_patches, embed_dim))\n",
    "\n",
    "print('pos_embed.shape:', pos_embed.shape)"
   ]
  },
  {
   "cell_type": "markdown",
   "metadata": {},
   "source": [
    "この `pos_embed` が損失の勾配から学習中に更新され，パッチの位置情報を獲得していく．\n",
    "\n",
    "最終的に，ViTへ入力されるテンソルはクラストークン付きのパッチにPEを加算した次の入力である．"
   ]
  },
  {
   "cell_type": "code",
   "execution_count": null,
   "metadata": {},
   "outputs": [],
   "source": [
    "x = x + pos_embed\n",
    "\n",
    "print('x.shape:', x.shape)"
   ]
  },
  {
   "cell_type": "markdown",
   "metadata": {},
   "source": [
    "以上で，ViTへの入力の前処理が完了した．"
   ]
  }
 ],
 "metadata": {
  "kernelspec": {
   "display_name": "ml-py39",
   "language": "python",
   "name": "python3"
  },
  "language_info": {
   "codemirror_mode": {
    "name": "ipython",
    "version": 3
   },
   "file_extension": ".py",
   "mimetype": "text/x-python",
   "name": "python",
   "nbconvert_exporter": "python",
   "pygments_lexer": "ipython3",
   "version": "3.9.19"
  }
 },
 "nbformat": 4,
 "nbformat_minor": 2
}
