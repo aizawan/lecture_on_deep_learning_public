{
 "cells": [
  {
   "cell_type": "markdown",
   "metadata": {},
   "source": [
    "# パッチ埋め込み\n",
    "\n",
    "このノートブックでは，Vision Transformer (ViT)における入力画像の **パッチ化（Patch）** と **パッチ埋め込み（Patch Embedding）** について説明する．パッチ化とは，入力画像を局所領域単位でクロップする処理である．そしてパッチ埋め込みとはそのパッチをベクトル化する処理である．\n",
    "\n",
    "パッチの局所領域は例えば $16 \\times 16$ のサイズである．CNNが主流であったコンピュータビジョン分野では，画素間の関連を捉えるために畳み込み演算が主流であり，自然言語のような単語の区切りを局所領域ごとでクロップすることで処理するパッチ化はかなり異質な処理であった．しかしながら，1枚の画像を例えば $256(=16 \\times 16）$ のパッチにしてしまっても，CNNモデルよりもこのようなパッチに基づいて特徴抽出処理を行うViTの性能が優れていることが報告されている．その高い性能からも，近年ではViTは標準的な画像分類モデルとなっている．\n",
    "\n",
    "ここでは，このパッチ化について，まずパッチ化された画像の可視化，パッチ化とパッチ埋め込みの実装の順で説明する．"
   ]
  },
  {
   "cell_type": "markdown",
   "metadata": {},
   "source": [
    "## パッチ化された画像\n",
    "\n",
    "ここでは，$224 \\times 224$ サイズの画像が与えられ，これを $16 \\times 16$ のサイズの局所領域のパッチを作成する．作成されるパッチの数は高さが $224 / 16 = 14$ に分割，幅も $224 / 16 = 14$ に分割されるので，計 $14 \\times 14 = 196$ 個のパッチが生成される．\n",
    "\n",
    "まずは `scikit-learn` にある画像データを読み込み，`PIL` 形式に変換する．"
   ]
  },
  {
   "cell_type": "code",
   "execution_count": null,
   "metadata": {},
   "outputs": [],
   "source": [
    "from skimage import data\n",
    "from PIL import Image\n",
    "\n",
    "img = data.astronaut()\n",
    "img = Image.fromarray(img)\n",
    "print('img.size:', img.size)\n",
    "img"
   ]
  },
  {
   "cell_type": "markdown",
   "metadata": {},
   "source": [
    "画像サイズとデータ型を `transform` で変換する．"
   ]
  },
  {
   "cell_type": "code",
   "execution_count": null,
   "metadata": {},
   "outputs": [],
   "source": [
    "import torchvision.transforms as transforms\n",
    "\n",
    "transform = transforms.Compose([\n",
    "    transforms.Resize((224, 224)),\n",
    "    transforms.ToTensor()\n",
    "])\n",
    "\n",
    "img_tensor = transform(img).unsqueeze(0)\n",
    "\n",
    "print('img_tensor.shape:', img_tensor.shape)"
   ]
  },
  {
   "cell_type": "markdown",
   "metadata": {},
   "source": [
    "続いて，テンソルを小さなパッチに分割する `unfold` 関数を用いてパッチ化を行う．ここではパッチ化された領域が重複しないようにパッチのウィンドウを `stride=16` を設定して実行する．"
   ]
  },
  {
   "cell_type": "code",
   "execution_count": null,
   "metadata": {},
   "outputs": [],
   "source": [
    "patch_size = 16\n",
    "stride = 16\n",
    "\n",
    "bs, c, h, w = img_tensor.shape\n",
    "patches = img_tensor.unfold(2, patch_size, stride).unfold(3, patch_size, stride)\n",
    "print('pathes.shape:', patches.shape)"
   ]
  },
  {
   "cell_type": "markdown",
   "metadata": {},
   "source": [
    "正しく実行できると，(バッチサイズ，チャネル，パッチ数，パッチ数，パッチサイズ，パッチサイズ)の6階テンソルへ変形される．これを可視化するために，パッチの軸を（バッチサイズ，パッチ数，パッチ数，パッチサイズ，パッチサイズ，チャネル数）というCNNへの入力のような形状に変換する．"
   ]
  },
  {
   "cell_type": "code",
   "execution_count": null,
   "metadata": {},
   "outputs": [],
   "source": [
    "num_h = patches.shape[2]\n",
    "num_w = patches.shape[3]\n",
    "\n",
    "patches = patches.permute([0, 2, 3, 4, 5, 1])\n",
    "print('pathes.shape:', patches.shape)"
   ]
  },
  {
   "cell_type": "markdown",
   "metadata": {},
   "source": [
    "そして，次のようにmatplotlibで可視化する．"
   ]
  },
  {
   "cell_type": "code",
   "execution_count": null,
   "metadata": {},
   "outputs": [],
   "source": [
    "import matplotlib.pyplot as plt\n",
    "\n",
    "patches = patches[0].numpy()\n",
    "fix, axes = plt.subplots(num_h, num_w, figsize=(6, 6))\n",
    "\n",
    "for i in range(num_h):\n",
    "    for j in range(num_w):\n",
    "        axes[i,j].imshow(patches[i,j])\n",
    "        axes[i,j].axis('off')"
   ]
  },
  {
   "cell_type": "markdown",
   "metadata": {},
   "source": [
    "ViTではこのパッチ化がまず入力画像に対して行われる処理となる．"
   ]
  },
  {
   "cell_type": "markdown",
   "metadata": {},
   "source": [
    "### `unfold` 関数の補足\n",
    "\n",
    "`unfold` 関数は指定した軸に対して，ウィンドウサイズとストライドから分割する処理である．次のサンプルコードで確認されたい．"
   ]
  },
  {
   "cell_type": "code",
   "execution_count": null,
   "metadata": {},
   "outputs": [],
   "source": [
    "import torch\n",
    "\n",
    "x = torch.arange(16).view(4, 4)\n",
    "print(f'x: \\n{x}')\n",
    "\n",
    "unfolded_x = x.unfold(0, 2, 2).unfold(1, 2, 2)\n",
    "print(f'unfolded_x: \\n{unfolded_x}')"
   ]
  },
  {
   "cell_type": "markdown",
   "metadata": {},
   "source": [
    "## パッチ埋め込み\n",
    "\n",
    "パッチ埋め込みは上記のパッチをベクトル化して，そのベクトルを線形層などで固定長のベクトルに変換する処理である．愚直に実装するならば，可視化の際に変形した各パッチに対して線形層を適用して，再度パッチの形状に戻せば良い．しかし，このパッチ埋め込みはパッチサイズをフィルタサイズとした畳み込み層を活用するとスマートに実装できる．\n",
    "\n",
    "以下のセルはパッチ埋め込みを行う`PatchEmbed`層である．"
   ]
  },
  {
   "cell_type": "code",
   "execution_count": 20,
   "metadata": {},
   "outputs": [],
   "source": [
    "import torch.nn as nn\n",
    "\n",
    "class PatchEmbed(nn.Module):\n",
    "    def __init__(self, img_size=224, patch_size=16, in_channels=3, embed_dim=384):\n",
    "        super().__init__()\n",
    "        self.num_patches = (img_size // patch_size) * (img_size // patch_size)\n",
    "        self.proj = nn.Conv2d(in_channels, embed_dim, kernel_size=patch_size, stride=patch_size)\n",
    "\n",
    "    def forward(self, x):\n",
    "        x = self.proj(x).flatten(2).transpose(1, 2)\n",
    "        return x"
   ]
  },
  {
   "cell_type": "markdown",
   "metadata": {},
   "source": [
    "可視化の際に作成した `img_tensor` を伝播してみる．"
   ]
  },
  {
   "cell_type": "code",
   "execution_count": null,
   "metadata": {},
   "outputs": [],
   "source": [
    "patch_embed = PatchEmbed()\n",
    "patches = patch_embed(img_tensor)\n",
    "print('patches.shape:', patches.shape)"
   ]
  },
  {
   "cell_type": "markdown",
   "metadata": {},
   "source": [
    "（ミニバッチサイズ，パッチ数，埋め込み次元）の入力テンソルが得られた．線形層を伝播しているため，可視化はできない点に注意されたい．\n"
   ]
  },
  {
   "cell_type": "markdown",
   "metadata": {},
   "source": [
    "## クラストークン\n",
    "\n",
    "ViTでは，分類タスクを解く際，分類用の特別なトークンである **クラストークン（Class Token）** をパッチに付与する．このトークンは分類用の線形層に入力され，分類損失の勾配が直接流れるトークンである．CNNとは異なる分類方法であるが，自然言語処理分野で登場した **Transformer** モデルの名残りであり，クラストークンが必要かという点など様々な議論が行われている．\n",
    "\n",
    "クラストークン自体は追加のパッチとして考えれば容易に実装できる．"
   ]
  },
  {
   "cell_type": "code",
   "execution_count": 22,
   "metadata": {},
   "outputs": [],
   "source": [
    "embed_dim = patches.shape[2]\n",
    "cls_token = nn.Parameter(torch.zeros(1, 1, embed_dim))"
   ]
  },
  {
   "cell_type": "markdown",
   "metadata": {},
   "source": [
    "ここで，クラストークンは学習中に更新が行われるので，`nn.Module` のパラメータであることを示す `nn.Parameter` を使ってパラメータ化している．\n",
    "\n",
    "そして，このクラストークンは `patches` に追加のパッチとして結合されるが，`patches` はミニバッチサイズだけサンプルがあるので，それぞれのサンプルに同一のクラストークンを結合する必要がある．これは次のように `.expand` と `.cat` を利用すれば良い．"
   ]
  },
  {
   "cell_type": "code",
   "execution_count": null,
   "metadata": {},
   "outputs": [],
   "source": [
    "bs = patches.shape[0]\n",
    "cls_tokens = cls_token.expand(bs, -1, -1)\n",
    "x = torch.cat((cls_tokens, patches), dim=1)\n",
    "\n",
    "print('x.shape:', x.shape)"
   ]
  },
  {
   "cell_type": "markdown",
   "metadata": {},
   "source": [
    "パッチ数が +1 されていることがわかるだろう．"
   ]
  },
  {
   "cell_type": "markdown",
   "metadata": {},
   "source": [
    "そして，このパッチに対して位置埋め込み（Positional Embedding）を足し合わせ，クラス分類用のトークン（Class Token）を追加することでViTへの入力表現が完成する．"
   ]
  },
  {
   "cell_type": "markdown",
   "metadata": {},
   "source": [
    "### `expand` の補足\n",
    "\n",
    "`expand` は1次元の軸を複製して拡張したテンソルを作成する処理である．次のセルで挙動を確認されたい．"
   ]
  },
  {
   "cell_type": "code",
   "execution_count": null,
   "metadata": {},
   "outputs": [],
   "source": [
    "x = torch.tensor([[1, 2, 3]])\n",
    "print(f'x: \\n{x}')\n",
    "\n",
    "x_ = x.expand(3, 3)\n",
    "print(f'expanded_x: \\n{x_}')"
   ]
  },
  {
   "cell_type": "markdown",
   "metadata": {},
   "source": [
    "### `cat` の補足\n",
    "\n",
    "`cat` は指定した軸が揃った複数のテンソルを結合する処理である．次のセルで挙動を確認されたい．"
   ]
  },
  {
   "cell_type": "code",
   "execution_count": null,
   "metadata": {},
   "outputs": [],
   "source": [
    "a = torch.tensor([[1, 2], [3, 4]])\n",
    "b = torch.tensor([[5, 6], [7, 8]])\n",
    "\n",
    "print(f'a: \\n{a}')\n",
    "print(f'b: \\n{b}')\n",
    "\n",
    "c = torch.cat((a, b), dim=0)\n",
    "print(f'c: \\n{c}')\n",
    "\n",
    "d = torch.cat((a, b), dim=1)\n",
    "print(f'd: \\n{d}')"
   ]
  },
  {
   "cell_type": "code",
   "execution_count": null,
   "metadata": {},
   "outputs": [],
   "source": []
  }
 ],
 "metadata": {
  "kernelspec": {
   "display_name": "ml-py39",
   "language": "python",
   "name": "python3"
  },
  "language_info": {
   "codemirror_mode": {
    "name": "ipython",
    "version": 3
   },
   "file_extension": ".py",
   "mimetype": "text/x-python",
   "name": "python",
   "nbconvert_exporter": "python",
   "pygments_lexer": "ipython3",
   "version": "3.9.19"
  }
 },
 "nbformat": 4,
 "nbformat_minor": 2
}
