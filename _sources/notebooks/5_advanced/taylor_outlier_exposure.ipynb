{
 "cells": [
  {
   "cell_type": "markdown",
   "id": "6b5cafd0",
   "metadata": {},
   "source": [
    "# Outlier Exposure\n",
    "\n",
    "**Outlier Exposure（OE）** は異常検出や外れ値に対するロバスト性向上のために提案された手法である．OEでは，モデルの学習時に通常のデータ（In-distribution Data）だけでなく，意図的に分布外データ（Out-distribution data）をモデルに晒すことで，モデルの汎化性能を改善させることを意図している．具体的に，モデルが外れ値データ $x_{out}$ に対して極めて低い確率を与えるように次の損失に基づいて学習する．\n",
    "\n",
    "$$\n",
    "\\mathcal{L}_{OE} = \\mathcal{L}_{CE}(p(y|x_{in}), y) + \\lambda \\mathcal{L}_{CE}(p(y|x_{out}), \\mathcal{U})\n",
    "$$\n",
    "\n",
    "ここで，$\\mathcal{L}_{CE}$ は交差エントロピー誤差関数，$p(y|x_{in})$ は通常のデータに対する予測確率分布，$p(y|x_{out})$ は分布外データに対する予測確率分布，$\\lambda$ はOEと通常の分類誤差との重み付け，$\\mathcal{U}$ は一様分布を表す．この式からもわかる様に分布外データの分類結果が全クラスにわたって等確率となるように学習する関数である．\n",
    "\n",
    "- https://arxiv.org/abs/1812.04606"
   ]
  },
  {
   "cell_type": "code",
   "execution_count": null,
   "id": "538040d5",
   "metadata": {},
   "outputs": [],
   "source": [
    "import numpy as np\n",
    "import matplotlib.pyplot as plt\n",
    "import scienceplots\n",
    "plt.style.use('science')\n",
    "plt.rcParams['figure.dpi'] = 300\n",
    "plt.rcParams['savefig.dpi'] = 300\n",
    "\n",
    "def oe_loss(q, C):\n",
    "    uniform_dist = 1.0 / C\n",
    "    return - (uniform_dist * np.log(q) + uniform_dist * np.log(1 - q))\n",
    "\n",
    "q_values = np.linspace(0.01, 0.99, 100)\n",
    "loss_values = [oe_loss(q, 2) for q in q_values]\n",
    "\n",
    "plt.figure(figsize=(10, 6))\n",
    "plt.plot(q_values, loss_values, label='OE Loss')\n",
    "plt.xlabel(r'Predicted Probability ($q$)')\n",
    "plt.ylabel('OE Loss')\n",
    "plt.title('OE Loss vs. Predicted Probability (Binary Classification)')\n",
    "plt.axvline(x=0.5, color='red', linestyle='--', label=r'$q = 0.5$')\n",
    "plt.legend()\n",
    "plt.grid(True)\n",
    "plt.show()"
   ]
  },
  {
   "cell_type": "code",
   "execution_count": null,
   "id": "f77eb899",
   "metadata": {},
   "outputs": [],
   "source": []
  }
 ],
 "metadata": {
  "kernelspec": {
   "display_name": "Python 3 (ipykernel)",
   "language": "python",
   "name": "python3"
  },
  "language_info": {
   "codemirror_mode": {
    "name": "ipython",
    "version": 3
   },
   "file_extension": ".py",
   "mimetype": "text/x-python",
   "name": "python",
   "nbconvert_exporter": "python",
   "pygments_lexer": "ipython3",
   "version": "3.9.13"
  }
 },
 "nbformat": 4,
 "nbformat_minor": 5
}
