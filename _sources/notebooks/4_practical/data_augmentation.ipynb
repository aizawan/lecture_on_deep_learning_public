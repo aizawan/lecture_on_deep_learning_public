{
 "cells": [
  {
   "cell_type": "markdown",
   "metadata": {},
   "source": [
    "# データ拡張\n",
    "\n",
    "**データ拡張（data augmentation）** は，モデルの学習データに対して幾何変化など様々な変換を施すことでデータセットの多様性を増やして，過学習を抑制し，モデルの汎化性能を改善させるテクニックである．特に，画像分野においてはこのデータ拡張は必須のテクニックとなっている．画像に対する一般的なデータ拡張は，\n",
    "\n",
    "- 画像を左右または上下にランダムに反転する（`RandomVerticalFlip`/`RandomHorizontalFlip`）\n",
    "- 画像を一定の範囲内でランダムに回転させる（`RandomRotation`）\n",
    "- 画像の一部領域をランダムに切り取る（`RandomResizedCrop`）\n",
    "- 画像の色合いや明るさなどを変更する（`ColorJitter`）\n",
    "\n",
    "あたりがよく利用される．\n",
    "\n",
    "データ拡張は `torchvision` を使うと容易に利用できる．"
   ]
  },
  {
   "cell_type": "code",
   "execution_count": null,
   "metadata": {},
   "outputs": [],
   "source": [
    "import matplotlib.pyplot as plt\n",
    "import numpy as np\n",
    "from skimage import data\n",
    "from torchvision import transforms\n",
    "from PIL import Image\n",
    "\n",
    "img = Image.fromarray(data.astronaut())\n",
    "\n",
    "transforms = {\n",
    "    'Original': None,\n",
    "    'Vertical Flip': transforms.RandomVerticalFlip(p=1),\n",
    "    'Horizontal Flip': transforms.RandomHorizontalFlip(p=1),\n",
    "    'Rotation': transforms.RandomRotation((30, 60)),\n",
    "    'Resized Crop': transforms.RandomResizedCrop(256, scale=(0.5, 0.7)),\n",
    "    'Color Jitter': transforms.ColorJitter(brightness=0.5, contrast=0.5, saturation=0.5, hue=0.2)\n",
    "}\n",
    "\n",
    "transformed_images = {'Original': img}\n",
    "for name, transform in transforms.items():\n",
    "    if transform is not None:\n",
    "        transformed_image = transform(img)\n",
    "        transformed_images[name] = np.array(transformed_image)\n",
    "\n",
    "fig, axes = plt.subplots(1, len(transformed_images), figsize=(15, 5))\n",
    "for ax, (name, img) in zip(axes, transformed_images.items()):\n",
    "    ax.imshow(img)\n",
    "    ax.set_title(name)\n",
    "    ax.axis('off')\n",
    "\n",
    "plt.tight_layout()\n"
   ]
  },
  {
   "cell_type": "markdown",
   "metadata": {},
   "source": [
    "データ拡張は一般的に学習データにのみ適用するので，検証や評価データには含めないようにする．また，文字や数字に対して左右反転させるなどデータ拡張によって画像の意味合いが変わる場合には適用してはいけない．また回転など画像が存在しない領域に対しては0で値が埋められることが多い．\n",
    "\n",
    "強いデータ拡張を適用すると学習が収束しなくなる場合もあるので，もし新しいデータセットを使って新しいモデルを学習させるときは，まずシンプルなデータ拡張のみを使って学習・検証を始めると良い．"
   ]
  }
 ],
 "metadata": {
  "kernelspec": {
   "display_name": "ml-py39",
   "language": "python",
   "name": "python3"
  },
  "language_info": {
   "codemirror_mode": {
    "name": "ipython",
    "version": 3
   },
   "file_extension": ".py",
   "mimetype": "text/x-python",
   "name": "python",
   "nbconvert_exporter": "python",
   "pygments_lexer": "ipython3",
   "version": "3.9.19"
  }
 },
 "nbformat": 4,
 "nbformat_minor": 2
}
